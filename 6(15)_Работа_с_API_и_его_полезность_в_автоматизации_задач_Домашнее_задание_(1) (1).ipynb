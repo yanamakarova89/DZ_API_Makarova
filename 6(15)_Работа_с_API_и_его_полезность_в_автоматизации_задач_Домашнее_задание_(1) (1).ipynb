{
  "nbformat": 4,
  "nbformat_minor": 0,
  "metadata": {
    "colab": {
      "provenance": [],
      "toc_visible": true
    },
    "kernelspec": {
      "display_name": "Python 3",
      "language": "python",
      "name": "python3"
    },
    "language_info": {
      "codemirror_mode": {
        "name": "ipython",
        "version": 3
      },
      "file_extension": ".py",
      "mimetype": "text/x-python",
      "name": "python",
      "nbconvert_exporter": "python",
      "pygments_lexer": "ipython3",
      "version": "3.8.8"
    },
    "toc": {
      "base_numbering": 1,
      "nav_menu": {},
      "number_sections": true,
      "sideBar": true,
      "skip_h1_title": false,
      "title_cell": "Table of Contents",
      "title_sidebar": "Contents",
      "toc_cell": false,
      "toc_position": {},
      "toc_section_display": true,
      "toc_window_display": false
    }
  },
  "cells": [
    {
      "cell_type": "markdown",
      "metadata": {
        "id": "9YruChoFPlTH"
      },
      "source": [
        "**Цели:**\n",
        "1. Научиться выполнять HTTP-запросы с использованием библиотеки Requests.\n",
        "2. Научиться сохранять данные из датафрейма в файлы xlsx и csv.\n",
        "3. Научиться работать c Git и сохранять результаты своей работы в GitLab.\n"
      ]
    },
    {
      "cell_type": "markdown",
      "metadata": {
        "id": "p0t9GY6BOjpL"
      },
      "source": [
        "Продолжим работу с iTunes Search API\n",
        "Документацию к iTunes Search API можно [найти здесь](https://developer.apple.com/library/archive/documentation/AudioVideo/Conceptual/iTuneSearchAPI/Searching.html#//apple_ref/doc/uid/TP40017632-CH5-SW1)"
      ]
    },
    {
      "cell_type": "markdown",
      "metadata": {
        "id": "kr8Q_RUzOjpM"
      },
      "source": [
        "**Задача 1**\n",
        "\n",
        "Импортируйте библиотеки, необходимые для дальнейшей работы"
      ]
    },
    {
      "cell_type": "code",
      "source": [
        "from socket import timeout\n",
        "import requests\n",
        "import json\n",
        "import pandas as pd\n",
        "import openpyxl"
      ],
      "metadata": {
        "id": "dAdc0iL7E7DM"
      },
      "execution_count": 1,
      "outputs": []
    },
    {
      "cell_type": "markdown",
      "source": [
        "**Задача 2**\n",
        "\n",
        "1. Выполните GET-запрос https://itunes.apple.com/lookup?id=518462 и распечатайте ответ в формате json."
      ],
      "metadata": {
        "id": "JP6HcqhSE7aD"
      }
    },
    {
      "cell_type": "code",
      "metadata": {
        "ExecuteTime": {
          "end_time": "2021-10-24T10:55:47.101496Z",
          "start_time": "2021-10-24T10:55:47.098939Z"
        },
        "id": "hLC8F1acOjpN",
        "colab": {
          "base_uri": "https://localhost:8080/"
        },
        "outputId": "60b54226-cd8d-4779-997d-52dff73e94c2"
      },
      "source": [
        "response = requests.get('https://itunes.apple.com/lookup?id=518462', )\n",
        "print(response.json())"
      ],
      "execution_count": 3,
      "outputs": [
        {
          "output_type": "stream",
          "name": "stdout",
          "text": [
            "{'resultCount': 1, 'results': [{'wrapperType': 'artist', 'artistType': 'Artist', 'artistName': 'Louis Armstrong', 'artistLinkUrl': 'https://music.apple.com/us/artist/louis-armstrong/518462?uo=4', 'artistId': 518462, 'amgArtistId': 52456, 'primaryGenreName': 'Jazz', 'primaryGenreId': 11}]}\n"
          ]
        }
      ]
    },
    {
      "cell_type": "markdown",
      "metadata": {
        "id": "J1YHZdzPQVlR"
      },
      "source": [
        "2. Распечатайте код ответа."
      ]
    },
    {
      "cell_type": "code",
      "metadata": {
        "id": "Eto3BcM2QVlR",
        "colab": {
          "base_uri": "https://localhost:8080/"
        },
        "outputId": "2243051b-7293-4a02-d50c-d8b562b7b8e4"
      },
      "source": [
        "print(response.status_code)"
      ],
      "execution_count": 4,
      "outputs": [
        {
          "output_type": "stream",
          "name": "stdout",
          "text": [
            "200\n"
          ]
        }
      ]
    },
    {
      "cell_type": "markdown",
      "metadata": {
        "id": "LcpYxnZsQVlT"
      },
      "source": [
        "3. Распечатайте строку запроса.\n",
        "\n",
        "    _Подсказка:_ строку запроса можно распечатать с помощью метода `url`."
      ]
    },
    {
      "cell_type": "code",
      "metadata": {
        "ExecuteTime": {
          "end_time": "2021-11-15T22:58:07.910280Z",
          "start_time": "2021-11-15T22:58:07.907016Z"
        },
        "id": "HEivops6QVlT",
        "colab": {
          "base_uri": "https://localhost:8080/"
        },
        "outputId": "e3a702f2-769e-4fb5-9e02-fb4a768e6773"
      },
      "source": [
        "print(response.url)"
      ],
      "execution_count": 5,
      "outputs": [
        {
          "output_type": "stream",
          "name": "stdout",
          "text": [
            "https://itunes.apple.com/lookup?id=518462\n"
          ]
        }
      ]
    },
    {
      "cell_type": "markdown",
      "metadata": {
        "id": "QxZUUuH_QVlU"
      },
      "source": [
        "4. Сохраните в переменную `amg_artist_id` значение `amgArtistId` полученного ответа и распечатайте его."
      ]
    },
    {
      "cell_type": "code",
      "metadata": {
        "ExecuteTime": {
          "end_time": "2021-11-15T23:14:37.737599Z",
          "start_time": "2021-11-15T23:14:37.734887Z"
        },
        "id": "jH9rOE3UQVlU",
        "colab": {
          "base_uri": "https://localhost:8080/"
        },
        "outputId": "ccac6078-c7e7-48bc-c379-7c284d49a3a0"
      },
      "source": [
        "amg_artist_id = response.json().get('results')[0].get('amgArtistId')\n",
        "print(amg_artist_id)"
      ],
      "execution_count": 6,
      "outputs": [
        {
          "output_type": "stream",
          "name": "stdout",
          "text": [
            "52456\n"
          ]
        }
      ]
    },
    {
      "cell_type": "markdown",
      "metadata": {
        "id": "cViBXi62OjpP"
      },
      "source": [
        "***Задача 4***\n",
        "\n",
        "1. Выполните POST-запрос к к ресурсу `lookup`, чтобы найти первые 100 записей, содержащих альбомы для артиста с `amgArtistId`, равного  полученному ранее `amg_artist_id`. Укажите время ожидания запроса 60 секунд и распечатайте ответ в формате json.\n"
      ]
    },
    {
      "cell_type": "code",
      "metadata": {
        "ExecuteTime": {
          "end_time": "2021-10-24T10:41:11.069411Z",
          "start_time": "2021-10-24T10:41:11.066371Z"
        },
        "id": "Tx2VYklzOjpQ",
        "colab": {
          "base_uri": "https://localhost:8080/"
        },
        "outputId": "300c4ead-f0b4-40ee-c13d-0d5bf9a2c6b2"
      },
      "source": [
        "albums = requests.post('https://itunes.apple.com/lookup', data = {'amgArtistId': amg_artist_id, 'entity' : 'album', 'limit' : 100}, timeout = 60)\n",
        "print(albums.json())"
      ],
      "execution_count": 7,
      "outputs": [
        {
          "output_type": "stream",
          "name": "stdout",
          "text": [
            "{'resultCount': 101, 'results': [{'wrapperType': 'artist', 'artistType': 'Artist', 'artistName': 'Louis Armstrong', 'artistLinkUrl': 'https://music.apple.com/us/artist/louis-armstrong/518462?uo=4', 'artistId': 518462, 'amgArtistId': 52456, 'primaryGenreName': 'Jazz', 'primaryGenreId': 11}, {'wrapperType': 'collection', 'collectionType': 'Album', 'artistId': 73568, 'collectionId': 1445666702, 'amgArtistId': 6503, 'artistName': 'Ella Fitzgerald & Louis Armstrong', 'collectionName': 'Ella & Louis Christmas', 'collectionCensoredName': 'Ella & Louis Christmas', 'artistViewUrl': 'https://music.apple.com/us/artist/ella-fitzgerald/73568?uo=4', 'collectionViewUrl': 'https://music.apple.com/us/album/ella-louis-christmas/1445666702?uo=4', 'artworkUrl60': 'https://is1-ssl.mzstatic.com/image/thumb/Music115/v4/16/a2/75/16a27533-9fc4-843b-c8d3-d81a377a2395/16UMGIM78399.rgb.jpg/60x60bb.jpg', 'artworkUrl100': 'https://is1-ssl.mzstatic.com/image/thumb/Music115/v4/16/a2/75/16a27533-9fc4-843b-c8d3-d81a377a2395/16UMGIM78399.rgb.jpg/100x100bb.jpg', 'collectionPrice': 6.99, 'collectionExplicitness': 'notExplicit', 'trackCount': 20, 'copyright': 'This Compilation ℗ 2016 The Verve Music Group, a Division of UMG Recordings, Inc.', 'country': 'USA', 'currency': 'USD', 'releaseDate': '2016-11-25T08:00:00Z', 'primaryGenreName': 'Holiday'}, {'wrapperType': 'collection', 'collectionType': 'Album', 'artistId': 518462, 'collectionId': 1434914801, 'amgArtistId': 52456, 'artistName': 'Louis Armstrong', 'collectionName': 'All Time Greatest Hits', 'collectionCensoredName': 'All Time Greatest Hits', 'artistViewUrl': 'https://music.apple.com/us/artist/louis-armstrong/518462?uo=4', 'collectionViewUrl': 'https://music.apple.com/us/album/all-time-greatest-hits/1434914801?uo=4', 'artworkUrl60': 'https://is1-ssl.mzstatic.com/image/thumb/Music221/v4/1d/7c/01/1d7c0145-20e2-457b-78e4-e7728d26b37f/06UMGIM02666.rgb.jpg/60x60bb.jpg', 'artworkUrl100': 'https://is1-ssl.mzstatic.com/image/thumb/Music221/v4/1d/7c/01/1d7c0145-20e2-457b-78e4-e7728d26b37f/06UMGIM02666.rgb.jpg/100x100bb.jpg', 'collectionPrice': 10.99, 'collectionExplicitness': 'notExplicit', 'trackCount': 18, 'copyright': 'A Geffen Records Release; This Compilation ℗ 1994 UMG Recordings, Inc.', 'country': 'USA', 'currency': 'USD', 'releaseDate': '1994-01-01T08:00:00Z', 'primaryGenreName': 'Pop'}, {'wrapperType': 'collection', 'collectionType': 'Album', 'artistId': 518462, 'collectionId': 193896088, 'amgArtistId': 52456, 'artistName': 'Louis Armstrong', 'collectionName': 'The Essential Louis Armstrong', 'collectionCensoredName': 'The Essential Louis Armstrong', 'artistViewUrl': 'https://music.apple.com/us/artist/louis-armstrong/518462?uo=4', 'collectionViewUrl': 'https://music.apple.com/us/album/the-essential-louis-armstrong/193896088?uo=4', 'artworkUrl60': 'https://is1-ssl.mzstatic.com/image/thumb/Music/c1/d1/00/mzi.scvunyuo.jpg/60x60bb.jpg', 'artworkUrl100': 'https://is1-ssl.mzstatic.com/image/thumb/Music/c1/d1/00/mzi.scvunyuo.jpg/100x100bb.jpg', 'collectionPrice': 14.99, 'collectionExplicitness': 'notExplicit', 'trackCount': 37, 'copyright': '℗ Recorded Prior To 1972. All Rights Reserved by BMG Music, Originally Released 1925-1931, 1954, 1955, 1957, 2004 Sony Music Entertainment Inc.', 'country': 'USA', 'currency': 'USD', 'releaseDate': '1979-12-28T08:00:00Z', 'primaryGenreName': 'Jazz'}, {'wrapperType': 'collection', 'collectionType': 'Album', 'artistId': 518462, 'collectionId': 201274363, 'amgArtistId': 52456, 'artistName': 'Louis Armstrong', 'collectionName': 'The Best of the Hot 5 & Hot 7 Recordings', 'collectionCensoredName': 'The Best of the Hot 5 & Hot 7 Recordings', 'artistViewUrl': 'https://music.apple.com/us/artist/louis-armstrong/518462?uo=4', 'collectionViewUrl': 'https://music.apple.com/us/album/the-best-of-the-hot-5-hot-7-recordings/201274363?uo=4', 'artworkUrl60': 'https://is1-ssl.mzstatic.com/image/thumb/Music/54/10/9d/mzi.tzqujtgu.jpg/60x60bb.jpg', 'artworkUrl100': 'https://is1-ssl.mzstatic.com/image/thumb/Music/54/10/9d/mzi.tzqujtgu.jpg/100x100bb.jpg', 'collectionPrice': 9.99, 'collectionExplicitness': 'notExplicit', 'trackCount': 18, 'copyright': '℗ Originally Released 1926, 1927, 1928, 1929, 1940, (P) 2002 Sony Music Entertainment Inc.', 'country': 'USA', 'currency': 'USD', 'releaseDate': '2002-07-30T07:00:00Z', 'primaryGenreName': 'Jazz'}, {'wrapperType': 'collection', 'collectionType': 'Album', 'artistId': 518462, 'collectionId': 1644157235, 'amgArtistId': 52456, 'artistName': 'Louis Armstrong', 'collectionName': 'Louis Wishes You a Cool Yule', 'collectionCensoredName': 'Louis Wishes You a Cool Yule', 'artistViewUrl': 'https://music.apple.com/us/artist/louis-armstrong/518462?uo=4', 'collectionViewUrl': 'https://music.apple.com/us/album/louis-wishes-you-a-cool-yule/1644157235?uo=4', 'artworkUrl60': 'https://is1-ssl.mzstatic.com/image/thumb/Music122/v4/2a/af/6d/2aaf6db6-1757-9599-97c1-8b0708980d48/22UM1IM00901.rgb.jpg/60x60bb.jpg', 'artworkUrl100': 'https://is1-ssl.mzstatic.com/image/thumb/Music122/v4/2a/af/6d/2aaf6db6-1757-9599-97c1-8b0708980d48/22UM1IM00901.rgb.jpg/100x100bb.jpg', 'collectionPrice': 6.99, 'collectionExplicitness': 'notExplicit', 'trackCount': 11, 'copyright': 'A Verve Records release; This Compilation ℗ 2022 Verve Label Group, a Division of UMG Recordings, Inc.', 'country': 'USA', 'currency': 'USD', 'releaseDate': '2022-10-28T07:00:00Z', 'primaryGenreName': 'Holiday'}, {'wrapperType': 'collection', 'collectionType': 'Album', 'artistId': 73568, 'collectionId': 1431066643, 'amgArtistId': 6503, 'artistName': 'Ella Fitzgerald & Louis Armstrong', 'collectionName': 'The Best Of Ella Fitzgerald And Louis Armstrong On Verve', 'collectionCensoredName': 'The Best Of Ella Fitzgerald And Louis Armstrong On Verve', 'artistViewUrl': 'https://music.apple.com/us/artist/ella-fitzgerald/73568?uo=4', 'collectionViewUrl': 'https://music.apple.com/us/album/the-best-of-ella-fitzgerald-and-louis-armstrong-on-verve/1431066643?uo=4', 'artworkUrl60': 'https://is1-ssl.mzstatic.com/image/thumb/Music112/v4/ad/b2/88/adb2880e-3aba-9537-7437-21f224c9a659/06UMGIM06164.rgb.jpg/60x60bb.jpg', 'artworkUrl100': 'https://is1-ssl.mzstatic.com/image/thumb/Music112/v4/ad/b2/88/adb2880e-3aba-9537-7437-21f224c9a659/06UMGIM06164.rgb.jpg/100x100bb.jpg', 'collectionPrice': 9.99, 'collectionExplicitness': 'notExplicit', 'trackCount': 15, 'copyright': 'A Verve Label Group release; This Compilation ℗ 1997 UMG Recordings, Inc.', 'country': 'USA', 'currency': 'USD', 'releaseDate': '1997-08-20T07:00:00Z', 'primaryGenreName': 'Jazz'}, {'wrapperType': 'collection', 'collectionType': 'Album', 'artistId': 518462, 'collectionId': 1425235202, 'amgArtistId': 52456, 'artistName': 'Louis Armstrong', 'collectionName': '20th Century Masters: The Best of Louis Armstrong - The Millennium Collection', 'collectionCensoredName': '20th Century Masters: The Best of Louis Armstrong - The Millennium Collection', 'artistViewUrl': 'https://music.apple.com/us/artist/louis-armstrong/518462?uo=4', 'collectionViewUrl': 'https://music.apple.com/us/album/20th-century-masters-the-best-of-louis/1425235202?uo=4', 'artworkUrl60': 'https://is1-ssl.mzstatic.com/image/thumb/Music126/v4/63/32/48/63324851-4d3e-834d-4702-f3c727ea3926/06UMGIM02669.rgb.jpg/60x60bb.jpg', 'artworkUrl100': 'https://is1-ssl.mzstatic.com/image/thumb/Music126/v4/63/32/48/63324851-4d3e-834d-4702-f3c727ea3926/06UMGIM02669.rgb.jpg/100x100bb.jpg', 'collectionPrice': 8.99, 'collectionExplicitness': 'notExplicit', 'trackCount': 10, 'copyright': 'A Geffen Records Release; This Compilation ℗ 1999 UMG Recordings, Inc.', 'country': 'USA', 'currency': 'USD', 'releaseDate': '1999-03-16T08:00:00Z', 'primaryGenreName': 'Jazz'}, {'wrapperType': 'collection', 'collectionType': 'Album', 'artistId': 73568, 'collectionId': 1469584174, 'amgArtistId': 6503, 'artistName': 'Ella Fitzgerald & Louis Armstrong', 'collectionName': 'Ella and Louis', 'collectionCensoredName': 'Ella and Louis', 'artistViewUrl': 'https://music.apple.com/us/artist/ella-fitzgerald/73568?uo=4', 'collectionViewUrl': 'https://music.apple.com/us/album/ella-and-louis/1469584174?uo=4', 'artworkUrl60': 'https://is1-ssl.mzstatic.com/image/thumb/Music116/v4/ac/4b/53/ac4b5314-43aa-666b-43b2-845117e9c402/06UMGIM08714.rgb.jpg/60x60bb.jpg', 'artworkUrl100': 'https://is1-ssl.mzstatic.com/image/thumb/Music116/v4/ac/4b/53/ac4b5314-43aa-666b-43b2-845117e9c402/06UMGIM08714.rgb.jpg/100x100bb.jpg', 'collectionPrice': 9.99, 'collectionExplicitness': 'notExplicit', 'trackCount': 11, 'copyright': '℗ 2011 UMG Recordings, Inc.', 'country': 'USA', 'currency': 'USD', 'releaseDate': '1956-01-01T08:00:00Z', 'primaryGenreName': 'Jazz'}, {'wrapperType': 'collection', 'collectionType': 'Album', 'artistId': 518462, 'collectionId': 1440787250, 'amgArtistId': 52456, 'artistName': 'Louis Armstrong', 'collectionName': 'What a Wonderful World', 'collectionCensoredName': 'What a Wonderful World', 'artistViewUrl': 'https://music.apple.com/us/artist/louis-armstrong/518462?uo=4', 'collectionViewUrl': 'https://music.apple.com/us/album/what-a-wonderful-world/1440787250?uo=4', 'artworkUrl60': 'https://is1-ssl.mzstatic.com/image/thumb/Music116/v4/14/14/ef/1414ef36-705a-4483-d7fc-ca636f2cb137/12UMGIM11012.rgb.jpg/60x60bb.jpg', 'artworkUrl100': 'https://is1-ssl.mzstatic.com/image/thumb/Music116/v4/14/14/ef/1414ef36-705a-4483-d7fc-ca636f2cb137/12UMGIM11012.rgb.jpg/100x100bb.jpg', 'collectionPrice': 9.99, 'collectionExplicitness': 'notExplicit', 'trackCount': 11, 'copyright': 'This Compilation ℗ 1968 The Verve Music Group, a Division of UMG Recordings, Inc.', 'country': 'USA', 'currency': 'USD', 'releaseDate': '1968-01-01T08:00:00Z', 'primaryGenreName': 'Jazz'}, {'wrapperType': 'collection', 'collectionType': 'Album', 'artistId': 518462, 'collectionId': 158691605, 'amgArtistId': 52456, 'artistName': 'Louis Armstrong and His All-Stars', 'collectionName': 'Louis Armstrong Plays W.C. Handy', 'collectionCensoredName': 'Louis Armstrong Plays W.C. Handy', 'artistViewUrl': 'https://music.apple.com/us/artist/louis-armstrong/518462?uo=4', 'collectionViewUrl': 'https://music.apple.com/us/album/louis-armstrong-plays-w-c-handy/158691605?uo=4', 'artworkUrl60': 'https://is1-ssl.mzstatic.com/image/thumb/Music/b5/5f/98/mzi.rrovafso.jpg/60x60bb.jpg', 'artworkUrl100': 'https://is1-ssl.mzstatic.com/image/thumb/Music/b5/5f/98/mzi.rrovafso.jpg/100x100bb.jpg', 'collectionPrice': 9.99, 'collectionExplicitness': 'notExplicit', 'trackCount': 16, 'copyright': '℗ Originally Released 1954 Sony Music Entertainment Inc.', 'country': 'USA', 'currency': 'USD', 'releaseDate': '1954-06-01T07:00:00Z', 'primaryGenreName': 'Jazz'}, {'wrapperType': 'collection', 'collectionType': 'Album', 'artistId': 73568, 'collectionId': 1454734940, 'amgArtistId': 6503, 'artistName': 'Ella Fitzgerald & Louis Armstrong', 'collectionName': 'Ella & Louis for Lovers', 'collectionCensoredName': 'Ella & Louis for Lovers', 'artistViewUrl': 'https://music.apple.com/us/artist/ella-fitzgerald/73568?uo=4', 'collectionViewUrl': 'https://music.apple.com/us/album/ella-louis-for-lovers/1454734940?uo=4', 'artworkUrl60': 'https://is1-ssl.mzstatic.com/image/thumb/Music112/v4/0b/a1/97/0ba1976d-d023-48d1-287e-52b104208a10/06UMGIM19694.rgb.jpg/60x60bb.jpg', 'artworkUrl100': 'https://is1-ssl.mzstatic.com/image/thumb/Music112/v4/0b/a1/97/0ba1976d-d023-48d1-287e-52b104208a10/06UMGIM19694.rgb.jpg/100x100bb.jpg', 'collectionPrice': 9.99, 'collectionExplicitness': 'notExplicit', 'trackCount': 11, 'copyright': 'A Verve Label Group Release; This Compilation ℗ 2005 UMG Recordings, Inc.', 'country': 'USA', 'currency': 'USD', 'releaseDate': '2005-06-14T07:00:00Z', 'primaryGenreName': 'Jazz'}, {'wrapperType': 'collection', 'collectionType': 'Album', 'artistId': 518462, 'collectionId': 516685592, 'amgArtistId': 52456, 'artistName': 'Louis Armstrong, Tyree Glenn & Tommy Gwaltney', 'collectionName': 'Satchmo at the National Press Club - Red Beans and Rice-Ly Yours (Live)', 'collectionCensoredName': 'Satchmo at the National Press Club - Red Beans and Rice-Ly Yours (Live)', 'artistViewUrl': 'https://music.apple.com/us/artist/louis-armstrong/518462?uo=4', 'collectionViewUrl': 'https://music.apple.com/us/album/satchmo-at-the-national-press-club-red-beans-and-rice/516685592?uo=4', 'artworkUrl60': 'https://is1-ssl.mzstatic.com/image/thumb/Features/v4/c0/fc/f0/c0fcf050-bed0-250e-78b5-6d87de61bdce/V4HttpAssetRepositoryClient-ticket.dxmvauto.jpg-5442672848831280882.jpg/60x60bb.jpg', 'artworkUrl100': 'https://is1-ssl.mzstatic.com/image/thumb/Features/v4/c0/fc/f0/c0fcf050-bed0-250e-78b5-6d87de61bdce/V4HttpAssetRepositoryClient-ticket.dxmvauto.jpg-5442672848831280882.jpg/100x100bb.jpg', 'collectionPrice': 9.99, 'collectionExplicitness': 'notExplicit', 'trackCount': 11, 'country': 'USA', 'currency': 'USD', 'releaseDate': '1971-01-29T08:00:00Z', 'primaryGenreName': 'Jazz'}, {'wrapperType': 'collection', 'collectionType': 'Album', 'artistId': 518462, 'collectionId': 1425244065, 'amgArtistId': 52456, 'artistName': 'Louis Armstrong & Ella Fitzgerald', 'collectionName': 'Porgy and Bess', 'collectionCensoredName': 'Porgy and Bess', 'artistViewUrl': 'https://music.apple.com/us/artist/louis-armstrong/518462?uo=4', 'collectionViewUrl': 'https://music.apple.com/us/album/porgy-and-bess/1425244065?uo=4', 'artworkUrl60': 'https://is1-ssl.mzstatic.com/image/thumb/Music122/v4/c5/43/8a/c5438ab2-d677-e715-c10d-8fb72de2cd74/06UMGIM15223.rgb.jpg/60x60bb.jpg', 'artworkUrl100': 'https://is1-ssl.mzstatic.com/image/thumb/Music122/v4/c5/43/8a/c5438ab2-d677-e715-c10d-8fb72de2cd74/06UMGIM15223.rgb.jpg/100x100bb.jpg', 'collectionPrice': 9.99, 'collectionExplicitness': 'notExplicit', 'trackCount': 15, 'copyright': 'A Verve Label Group release; ℗ 1958 UMG Recordings, Inc.', 'country': 'USA', 'currency': 'USD', 'releaseDate': '1958-04-01T08:00:00Z', 'primaryGenreName': 'Jazz'}, {'wrapperType': 'collection', 'collectionType': 'Album', 'artistId': 73568, 'collectionId': 1359340014, 'amgArtistId': 6503, 'artistName': 'Ella Fitzgerald & Louis Armstrong', 'collectionName': 'Cheek To Cheek: The Complete Duet Recordings', 'collectionCensoredName': 'Cheek To Cheek: The Complete Duet Recordings', 'artistViewUrl': 'https://music.apple.com/us/artist/ella-fitzgerald/73568?uo=4', 'collectionViewUrl': 'https://music.apple.com/us/album/cheek-to-cheek-the-complete-duet-recordings/1359340014?uo=4', 'artworkUrl60': 'https://is1-ssl.mzstatic.com/image/thumb/Music122/v4/fd/a7/0c/fda70c9b-1e6a-8915-b8db-71f8456d034e/18UMGIM13490.rgb.jpg/60x60bb.jpg', 'artworkUrl100': 'https://is1-ssl.mzstatic.com/image/thumb/Music122/v4/fd/a7/0c/fda70c9b-1e6a-8915-b8db-71f8456d034e/18UMGIM13490.rgb.jpg/100x100bb.jpg', 'collectionPrice': 39.99, 'collectionExplicitness': 'notExplicit', 'trackCount': 75, 'copyright': 'A Verve Records release; ℗ 2018 UMG Recordings, Inc.', 'country': 'USA', 'currency': 'USD', 'releaseDate': '2018-04-06T07:00:00Z', 'primaryGenreName': 'Jazz'}, {'wrapperType': 'collection', 'collectionType': 'Album', 'artistId': 518462, 'collectionId': 477023849, 'amgArtistId': 52456, 'artistName': 'Louis Armstrong', 'collectionName': 'The Complete Hot Five & Hot Seven Recordings', 'collectionCensoredName': 'The Complete Hot Five & Hot Seven Recordings', 'artistViewUrl': 'https://music.apple.com/us/artist/louis-armstrong/518462?uo=4', 'collectionViewUrl': 'https://music.apple.com/us/album/the-complete-hot-five-hot-seven-recordings/477023849?uo=4', 'artworkUrl60': 'https://is1-ssl.mzstatic.com/image/thumb/Features/v4/a6/37/90/a6379001-6d78-77af-64a8-2d370390d345/dj.xhneepwy.jpg/60x60bb.jpg', 'artworkUrl100': 'https://is1-ssl.mzstatic.com/image/thumb/Features/v4/a6/37/90/a6379001-6d78-77af-64a8-2d370390d345/dj.xhneepwy.jpg/100x100bb.jpg', 'collectionPrice': 29.99, 'collectionExplicitness': 'notExplicit', 'trackCount': 93, 'copyright': '℗ Originally Released 1926, 1927 Courtesy of MCA Records under license from Universal Music Enterprises. Originally released 1925, 1926, 1927, 1928, 1929, 1937, 1940, 1941. All rights reserved by SONY BMG MUSIC ENTERTAINMENT, (P) 2000, 2006 SONY BMG MU', 'country': 'USA', 'currency': 'USD', 'releaseDate': '2000-08-22T00:00:00Z', 'primaryGenreName': 'Jazz'}, {'wrapperType': 'collection', 'collectionType': 'Album', 'artistId': 518462, 'collectionId': 1744612374, 'amgArtistId': 52456, 'artistName': 'Louis Armstrong', 'collectionName': 'Louis In London (Live At The BBC)', 'collectionCensoredName': 'Louis In London (Live At The BBC)', 'artistViewUrl': 'https://music.apple.com/us/artist/louis-armstrong/518462?uo=4', 'collectionViewUrl': 'https://music.apple.com/us/album/louis-in-london-live-at-the-bbc/1744612374?uo=4', 'artworkUrl60': 'https://is1-ssl.mzstatic.com/image/thumb/Music221/v4/ab/db/de/abdbde5b-05cb-d9f5-d0ae-e27f1f987b53/24UMGIM48565.rgb.jpg/60x60bb.jpg', 'artworkUrl100': 'https://is1-ssl.mzstatic.com/image/thumb/Music221/v4/ab/db/de/abdbde5b-05cb-d9f5-d0ae-e27f1f987b53/24UMGIM48565.rgb.jpg/100x100bb.jpg', 'collectionPrice': 11.99, 'collectionExplicitness': 'notExplicit', 'trackCount': 13, 'copyright': 'A Verve Records release; ℗ 2024 BBC, under license to Verve Label Group, a division of UMG Recordings, Inc.', 'country': 'USA', 'currency': 'USD', 'releaseDate': '2024-07-12T07:00:00Z', 'primaryGenreName': 'Jazz'}, {'wrapperType': 'collection', 'collectionType': 'Album', 'artistId': 518462, 'collectionId': 1425262446, 'amgArtistId': 52456, 'artistName': 'Louis Armstrong & Oscar Peterson', 'collectionName': 'Louis Armstrong Meets Oscar Peterson (Expanded Edition)', 'collectionCensoredName': 'Louis Armstrong Meets Oscar Peterson (Expanded Edition)', 'artistViewUrl': 'https://music.apple.com/us/artist/louis-armstrong/518462?uo=4', 'collectionViewUrl': 'https://music.apple.com/us/album/louis-armstrong-meets-oscar-peterson-expanded-edition/1425262446?uo=4', 'artworkUrl60': 'https://is1-ssl.mzstatic.com/image/thumb/Music116/v4/4c/df/15/4cdf155c-ad11-2f43-6c74-a02f1f3189a2/06UMGIM21256.rgb.jpg/60x60bb.jpg', 'artworkUrl100': 'https://is1-ssl.mzstatic.com/image/thumb/Music116/v4/4c/df/15/4cdf155c-ad11-2f43-6c74-a02f1f3189a2/06UMGIM21256.rgb.jpg/100x100bb.jpg', 'collectionPrice': 9.99, 'collectionExplicitness': 'notExplicit', 'trackCount': 16, 'copyright': '℗ 1985 The Verve Music Group, a Division of UMG Recordings, Inc.', 'country': 'USA', 'currency': 'USD', 'releaseDate': '1957-10-14T08:00:00Z', 'primaryGenreName': 'Jazz'}, {'wrapperType': 'collection', 'collectionType': 'Album', 'artistId': 73568, 'collectionId': 1434904687, 'amgArtistId': 6503, 'artistName': 'Ella Fitzgerald & Louis Armstrong', 'collectionName': 'The Complete Ella and Louis On Verve', 'collectionCensoredName': 'The Complete Ella and Louis On Verve', 'artistViewUrl': 'https://music.apple.com/us/artist/ella-fitzgerald/73568?uo=4', 'collectionViewUrl': 'https://music.apple.com/us/album/the-complete-ella-and-louis-on-verve/1434904687?uo=4', 'artworkUrl60': 'https://is1-ssl.mzstatic.com/image/thumb/Music221/v4/9a/20/14/9a201432-ec3c-15fa-abe1-d391c1cc2327/06UMGIM08157.rgb.jpg/60x60bb.jpg', 'artworkUrl100': 'https://is1-ssl.mzstatic.com/image/thumb/Music221/v4/9a/20/14/9a201432-ec3c-15fa-abe1-d391c1cc2327/06UMGIM08157.rgb.jpg/100x100bb.jpg', 'collectionPrice': 27.99, 'collectionExplicitness': 'notExplicit', 'trackCount': 47, 'copyright': 'A Verve Records Release; This Compilation ℗ 1997 UMG Recordings Inc.', 'country': 'USA', 'currency': 'USD', 'releaseDate': '1997-05-20T07:00:00Z', 'primaryGenreName': 'Jazz'}, {'wrapperType': 'collection', 'collectionType': 'Album', 'artistId': 73568, 'collectionId': 1442955474, 'amgArtistId': 6503, 'artistName': 'Ella Fitzgerald & Louis Armstrong', 'collectionName': 'Ella and Louis Again', 'collectionCensoredName': 'Ella and Louis Again', 'artistViewUrl': 'https://music.apple.com/us/artist/ella-fitzgerald/73568?uo=4', 'collectionViewUrl': 'https://music.apple.com/us/album/ella-and-louis-again/1442955474?uo=4', 'artworkUrl60': 'https://is1-ssl.mzstatic.com/image/thumb/Music116/v4/ba/82/97/ba8297ec-91b4-b660-ce5c-7116a7bb7841/06UMGIM11030.rgb.jpg/60x60bb.jpg', 'artworkUrl100': 'https://is1-ssl.mzstatic.com/image/thumb/Music116/v4/ba/82/97/ba8297ec-91b4-b660-ce5c-7116a7bb7841/06UMGIM11030.rgb.jpg/100x100bb.jpg', 'collectionPrice': 11.99, 'collectionExplicitness': 'notExplicit', 'trackCount': 19, 'copyright': 'A Verve Label Group Release; ℗ 1957 UMG Recordings, Inc.', 'country': 'USA', 'currency': 'USD', 'releaseDate': '1957-02-25T08:00:00Z', 'primaryGenreName': 'Jazz'}, {'wrapperType': 'collection', 'collectionType': 'Album', 'artistId': 518462, 'collectionId': 1434925400, 'amgArtistId': 52456, 'artistName': 'Louis Armstrong', 'collectionName': 'The Ultimate Collection: Louis Armstrong', 'collectionCensoredName': 'The Ultimate Collection: Louis Armstrong', 'artistViewUrl': 'https://music.apple.com/us/artist/louis-armstrong/518462?uo=4', 'collectionViewUrl': 'https://music.apple.com/us/album/the-ultimate-collection-louis-armstrong/1434925400?uo=4', 'artworkUrl60': 'https://is1-ssl.mzstatic.com/image/thumb/Music221/v4/29/46/80/2946808f-dcfd-6ee1-9d77-b92907cdc26e/06UMGIM07953.rgb.jpg/60x60bb.jpg', 'artworkUrl100': 'https://is1-ssl.mzstatic.com/image/thumb/Music221/v4/29/46/80/2946808f-dcfd-6ee1-9d77-b92907cdc26e/06UMGIM07953.rgb.jpg/100x100bb.jpg', 'collectionPrice': 27.99, 'collectionExplicitness': 'notExplicit', 'trackCount': 59, 'copyright': 'A Verve Records release; This Compilation ℗ 2000 UMG Recordings Inc.', 'country': 'USA', 'currency': 'USD', 'releaseDate': '2000-07-25T07:00:00Z', 'primaryGenreName': 'Jazz'}, {'wrapperType': 'collection', 'collectionType': 'Album', 'artistId': 518462, 'collectionId': 194021777, 'amgArtistId': 52456, 'artistName': 'Louis Armstrong & Earl Hines', 'collectionName': 'Louis Armstrong, Vol. 4 - Louis Armstrong and Earl Hines', 'collectionCensoredName': 'Louis Armstrong, Vol. 4 - Louis Armstrong and Earl Hines', 'artistViewUrl': 'https://music.apple.com/us/artist/louis-armstrong/518462?uo=4', 'collectionViewUrl': 'https://music.apple.com/us/album/louis-armstrong-vol-4-louis-armstrong-and-earl-hines/194021777?uo=4', 'artworkUrl60': 'https://is1-ssl.mzstatic.com/image/thumb/Music/59/d9/83/mzi.kblbbpah.jpg/60x60bb.jpg', 'artworkUrl100': 'https://is1-ssl.mzstatic.com/image/thumb/Music/59/d9/83/mzi.kblbbpah.jpg/100x100bb.jpg', 'collectionPrice': 9.99, 'collectionExplicitness': 'notExplicit', 'trackCount': 18, 'copyright': '℗ Originally Released 1928, 1929, 1941 SONY BMG MUSIC ENTERTAINMENT', 'country': 'USA', 'currency': 'USD', 'releaseDate': '1989-08-18T07:00:00Z', 'primaryGenreName': 'Jazz'}, {'wrapperType': 'collection', 'collectionType': 'Album', 'artistId': 518462, 'collectionId': 200036163, 'amgArtistId': 52456, 'artistName': 'Louis Armstrong', 'collectionName': 'Satch Blows the Blues', 'collectionCensoredName': 'Satch Blows the Blues', 'artistViewUrl': 'https://music.apple.com/us/artist/louis-armstrong/518462?uo=4', 'collectionViewUrl': 'https://music.apple.com/us/album/satch-blows-the-blues/200036163?uo=4', 'artworkUrl60': 'https://is1-ssl.mzstatic.com/image/thumb/Music/a5/25/ed/mzi.gqvxatac.jpg/60x60bb.jpg', 'artworkUrl100': 'https://is1-ssl.mzstatic.com/image/thumb/Music/a5/25/ed/mzi.gqvxatac.jpg/100x100bb.jpg', 'collectionPrice': 9.99, 'collectionExplicitness': 'notExplicit', 'trackCount': 16, 'copyright': '℗ Originally Released 1928, 1929, 1930, 1931, 1954 (P) 2002 Sony Music Entertainment Inc.', 'country': 'USA', 'currency': 'USD', 'releaseDate': '2002-07-26T07:00:00Z', 'primaryGenreName': 'Jazz'}, {'wrapperType': 'collection', 'collectionType': 'Album', 'artistId': 518462, 'collectionId': 171086591, 'amgArtistId': 52456, 'artistName': 'Louis Armstrong', 'collectionName': 'The Great Chicago Concert 1956 - Complete', 'collectionCensoredName': 'The Great Chicago Concert 1956 - Complete', 'artistViewUrl': 'https://music.apple.com/us/artist/louis-armstrong/518462?uo=4', 'collectionViewUrl': 'https://music.apple.com/us/album/the-great-chicago-concert-1956-complete/171086591?uo=4', 'artworkUrl60': 'https://is1-ssl.mzstatic.com/image/thumb/Music/f9/91/5c/mzi.sehcvwqf.jpg/60x60bb.jpg', 'artworkUrl100': 'https://is1-ssl.mzstatic.com/image/thumb/Music/f9/91/5c/mzi.sehcvwqf.jpg/100x100bb.jpg', 'collectionPrice': 16.99, 'collectionExplicitness': 'notExplicit', 'trackCount': 26, 'copyright': '℗ Originally Recorded 1956, Originally Released 1957, (P) 1980 Sony Music Entertainment Inc. WARNING: All rights reserved. Unauthorized duplication is a violation of applicable laws.', 'country': 'USA', 'currency': 'USD', 'releaseDate': '1957-01-01T08:00:00Z', 'primaryGenreName': 'Jazz'}, {'wrapperType': 'collection', 'collectionType': 'Album', 'artistId': 518462, 'collectionId': 293785416, 'amgArtistId': 52456, 'artistName': 'Louis Armstrong', 'collectionName': 'The Complete Hot Five and Hot Seven Recordings, Vol. 2', 'collectionCensoredName': 'The Complete Hot Five and Hot Seven Recordings, Vol. 2', 'artistViewUrl': 'https://music.apple.com/us/artist/louis-armstrong/518462?uo=4', 'collectionViewUrl': 'https://music.apple.com/us/album/the-complete-hot-five-and-hot-seven-recordings-vol-2/293785416?uo=4', 'artworkUrl60': 'https://is1-ssl.mzstatic.com/image/thumb/Music/7d/dc/fd/mzi.ksloftob.jpg/60x60bb.jpg', 'artworkUrl100': 'https://is1-ssl.mzstatic.com/image/thumb/Music/7d/dc/fd/mzi.ksloftob.jpg/100x100bb.jpg', 'collectionPrice': 9.99, 'collectionExplicitness': 'notExplicit', 'trackCount': 22, 'copyright': '℗ Originally Released 1926, 1927, 1928, 1940, (P) 2003 Sony Music Entertainment Inc.', 'country': 'USA', 'currency': 'USD', 'releaseDate': '2003-04-11T07:00:00Z', 'primaryGenreName': 'Jazz'}, {'wrapperType': 'collection', 'collectionType': 'Album', 'artistId': 518462, 'collectionId': 157407490, 'amgArtistId': 52456, 'artistName': 'Louis Armstrong and His All-Stars', 'collectionName': 'Ambassador Satch (Live in Europe 1955)', 'collectionCensoredName': 'Ambassador Satch (Live in Europe 1955)', 'artistViewUrl': 'https://music.apple.com/us/artist/louis-armstrong/518462?uo=4', 'collectionViewUrl': 'https://music.apple.com/us/album/ambassador-satch-live-in-europe-1955/157407490?uo=4', 'artworkUrl60': 'https://is1-ssl.mzstatic.com/image/thumb/Music/1e/ce/f7/mzi.qttnssoh.jpg/60x60bb.jpg', 'artworkUrl100': 'https://is1-ssl.mzstatic.com/image/thumb/Music/1e/ce/f7/mzi.qttnssoh.jpg/100x100bb.jpg', 'collectionPrice': 9.99, 'collectionExplicitness': 'notExplicit', 'trackCount': 13, 'copyright': '℗ Originally Recorded 1955, Originally Released 1956 Sony Music Entertainment Inc.', 'country': 'USA', 'currency': 'USD', 'releaseDate': '1956-01-01T08:00:00Z', 'primaryGenreName': 'Jazz'}, {'wrapperType': 'collection', 'collectionType': 'Album', 'artistId': 518462, 'collectionId': 157384070, 'amgArtistId': 52456, 'artistName': 'Louis Armstrong', 'collectionName': 'Super Hits', 'collectionCensoredName': 'Super Hits', 'artistViewUrl': 'https://music.apple.com/us/artist/louis-armstrong/518462?uo=4', 'collectionViewUrl': 'https://music.apple.com/us/album/super-hits/157384070?uo=4', 'artworkUrl60': 'https://is1-ssl.mzstatic.com/image/thumb/Music/55/c3/71/mzi.zacnbapu.jpg/60x60bb.jpg', 'artworkUrl100': 'https://is1-ssl.mzstatic.com/image/thumb/Music/55/c3/71/mzi.zacnbapu.jpg/100x100bb.jpg', 'collectionPrice': 5.99, 'collectionExplicitness': 'notExplicit', 'trackCount': 10, 'copyright': '℗ Originally Released 1954,1957,1959,1967,1982, (P) 2000 Sony Music Entertainment Inc.', 'country': 'USA', 'currency': 'USD', 'releaseDate': '2000-01-07T08:00:00Z', 'primaryGenreName': 'Jazz'}, {'wrapperType': 'collection', 'collectionType': 'Album', 'artistId': 518462, 'collectionId': 158662145, 'amgArtistId': 52456, 'artistName': 'Louis Armstrong', 'collectionName': 'The Essence of Louis Armstrong', 'collectionCensoredName': 'The Essence of Louis Armstrong', 'artistViewUrl': 'https://music.apple.com/us/artist/louis-armstrong/518462?uo=4', 'collectionViewUrl': 'https://music.apple.com/us/album/the-essence-of-louis-armstrong/158662145?uo=4', 'artworkUrl60': 'https://is1-ssl.mzstatic.com/image/thumb/Music/bb/cf/af/mzi.gakaqpoc.jpg/60x60bb.jpg', 'artworkUrl100': 'https://is1-ssl.mzstatic.com/image/thumb/Music/bb/cf/af/mzi.gakaqpoc.jpg/100x100bb.jpg', 'collectionPrice': 9.99, 'collectionExplicitness': 'notExplicit', 'trackCount': 12, 'copyright': '℗ 1991 Sony Music Entertainment Inc.', 'country': 'USA', 'currency': 'USD', 'releaseDate': '1991-10-11T07:00:00Z', 'primaryGenreName': 'Jazz'}, {'wrapperType': 'collection', 'collectionType': 'Album', 'artistId': 518462, 'collectionId': 293785410, 'amgArtistId': 52456, 'artistName': 'Louis Armstrong', 'collectionName': 'The Complete Hot Five and Hot Seven Recordings, Vol. 3', 'collectionCensoredName': 'The Complete Hot Five and Hot Seven Recordings, Vol. 3', 'artistViewUrl': 'https://music.apple.com/us/artist/louis-armstrong/518462?uo=4', 'collectionViewUrl': 'https://music.apple.com/us/album/the-complete-hot-five-and-hot-seven-recordings-vol-3/293785410?uo=4', 'artworkUrl60': 'https://is1-ssl.mzstatic.com/image/thumb/Music/f5/98/ee/mzi.msdeqxjz.jpg/60x60bb.jpg', 'artworkUrl100': 'https://is1-ssl.mzstatic.com/image/thumb/Music/f5/98/ee/mzi.msdeqxjz.jpg/100x100bb.jpg', 'collectionPrice': 9.99, 'collectionExplicitness': 'notExplicit', 'trackCount': 22, 'copyright': '℗ Originally Released 1928, 1929, 1940, (P) 2003 Sony Music Entertainment Inc.', 'country': 'USA', 'currency': 'USD', 'releaseDate': '2003-04-11T07:00:00Z', 'primaryGenreName': 'Jazz'}, {'wrapperType': 'collection', 'collectionType': 'Album', 'artistId': 518462, 'collectionId': 270473182, 'amgArtistId': 52456, 'artistName': 'Louis Armstrong', 'collectionName': 'Louis Armstrong: Complete RCA Victor Recordings (Remastered)', 'collectionCensoredName': 'Louis Armstrong: Complete RCA Victor Recordings (Remastered)', 'artistViewUrl': 'https://music.apple.com/us/artist/louis-armstrong/518462?uo=4', 'collectionViewUrl': 'https://music.apple.com/us/album/louis-armstrong-complete-rca-victor-recordings-remastered/270473182?uo=4', 'artworkUrl60': 'https://is1-ssl.mzstatic.com/image/thumb/Music/46/c8/ff/mzi.gpifbfvr.jpg/60x60bb.jpg', 'artworkUrl100': 'https://is1-ssl.mzstatic.com/image/thumb/Music/46/c8/ff/mzi.gpifbfvr.jpg/100x100bb.jpg', 'collectionPrice': -1.0, 'collectionExplicitness': 'notExplicit', 'trackCount': 75, 'copyright': '℗ 1997 BMG Entertainment', 'country': 'USA', 'currency': 'USD', 'releaseDate': '1990-01-01T08:00:00Z', 'primaryGenreName': 'Jazz'}, {'wrapperType': 'collection', 'collectionType': 'Album', 'artistId': 73568, 'collectionId': 1445098984, 'amgArtistId': 6503, 'artistName': 'Ella Fitzgerald & Louis Armstrong', 'collectionName': '20th Century Masters / The Millennium Collection: The Best of Ella Fitzgerald and Louis Armstrong', 'collectionCensoredName': '20th Century Masters / The Millennium Collection: The Best of Ella Fitzgerald and Louis Armstrong', 'artistViewUrl': 'https://music.apple.com/us/artist/ella-fitzgerald/73568?uo=4', 'collectionViewUrl': 'https://music.apple.com/us/album/20th-century-masters-the-millennium-collection-the/1445098984?uo=4', 'artworkUrl60': 'https://is1-ssl.mzstatic.com/image/thumb/Music122/v4/9f/8d/80/9f8d80f4-4087-e142-5fca-b6a155013bd3/07UMGIM06647.rgb.jpg/60x60bb.jpg', 'artworkUrl100': 'https://is1-ssl.mzstatic.com/image/thumb/Music122/v4/9f/8d/80/9f8d80f4-4087-e142-5fca-b6a155013bd3/07UMGIM06647.rgb.jpg/100x100bb.jpg', 'collectionPrice': 7.99, 'collectionExplicitness': 'notExplicit', 'trackCount': 10, 'copyright': 'A Verve Label Group Release; This Compilation ℗ 2007 UMG Recordings, Inc.', 'country': 'USA', 'currency': 'USD', 'releaseDate': '2007-06-12T07:00:00Z', 'primaryGenreName': 'Jazz'}, {'wrapperType': 'collection', 'collectionType': 'Album', 'artistId': 518462, 'collectionId': 158673207, 'amgArtistId': 52456, 'artistName': 'Louis Armstrong', 'collectionName': 'Louis Armstrong: 16 Most Requested Songs', 'collectionCensoredName': 'Louis Armstrong: 16 Most Requested Songs', 'artistViewUrl': 'https://music.apple.com/us/artist/louis-armstrong/518462?uo=4', 'collectionViewUrl': 'https://music.apple.com/us/album/louis-armstrong-16-most-requested-songs/158673207?uo=4', 'artworkUrl60': 'https://is1-ssl.mzstatic.com/image/thumb/Music/56/66/7c/mzi.ccsbdfin.jpg/60x60bb.jpg', 'artworkUrl100': 'https://is1-ssl.mzstatic.com/image/thumb/Music/56/66/7c/mzi.ccsbdfin.jpg/100x100bb.jpg', 'collectionPrice': 9.99, 'collectionExplicitness': 'notExplicit', 'trackCount': 16, 'copyright': '℗ 1994 Sony Music Entertainment Inc.', 'country': 'USA', 'currency': 'USD', 'releaseDate': '1994-05-27T07:00:00Z', 'primaryGenreName': 'Jazz'}, {'wrapperType': 'collection', 'collectionType': 'Album', 'artistId': 518462, 'collectionId': 193043791, 'amgArtistId': 52456, 'artistName': 'Louis Armstrong', 'collectionName': 'The Hot Fives and Hot Sevens, Volume III', 'collectionCensoredName': 'The Hot Fives and Hot Sevens, Volume III', 'artistViewUrl': 'https://music.apple.com/us/artist/louis-armstrong/518462?uo=4', 'collectionViewUrl': 'https://music.apple.com/us/album/the-hot-fives-and-hot-sevens-volume-iii/193043791?uo=4', 'artworkUrl60': 'https://is1-ssl.mzstatic.com/image/thumb/Music/8a/e3/a3/mzi.rokwiykt.jpg/60x60bb.jpg', 'artworkUrl100': 'https://is1-ssl.mzstatic.com/image/thumb/Music/8a/e3/a3/mzi.rokwiykt.jpg/100x100bb.jpg', 'collectionPrice': 9.99, 'collectionExplicitness': 'notExplicit', 'trackCount': 16, 'copyright': '℗ 1989 CBS RECORDS INC.', 'country': 'USA', 'currency': 'USD', 'releaseDate': '1989-03-24T08:00:00Z', 'primaryGenreName': 'Jazz'}, {'wrapperType': 'collection', 'collectionType': 'Album', 'artistId': 73568, 'collectionId': 1425173241, 'amgArtistId': 6503, 'artistName': 'Ella Fitzgerald & Louis Armstrong', 'collectionName': 'Our Love Is Here To Stay: Ella & Louis Sing Gershwin', 'collectionCensoredName': 'Our Love Is Here To Stay: Ella & Louis Sing Gershwin', 'artistViewUrl': 'https://music.apple.com/us/artist/ella-fitzgerald/73568?uo=4', 'collectionViewUrl': 'https://music.apple.com/us/album/our-love-is-here-to-stay-ella-louis-sing-gershwin/1425173241?uo=4', 'artworkUrl60': 'https://is1-ssl.mzstatic.com/image/thumb/Music122/v4/b1/ae/c1/b1aec172-8337-4261-f8fc-0ba7a1a6cf71/06UMGIM08156.rgb.jpg/60x60bb.jpg', 'artworkUrl100': 'https://is1-ssl.mzstatic.com/image/thumb/Music122/v4/b1/ae/c1/b1aec172-8337-4261-f8fc-0ba7a1a6cf71/06UMGIM08156.rgb.jpg/100x100bb.jpg', 'collectionPrice': 9.99, 'collectionExplicitness': 'notExplicit', 'trackCount': 16, 'copyright': 'A Verve Label Group release; This Compilation ℗ 1998 UMG Recordings, Inc.', 'country': 'USA', 'currency': 'USD', 'releaseDate': '1998-01-23T08:00:00Z', 'primaryGenreName': 'Jazz'}, {'wrapperType': 'collection', 'collectionType': 'Album', 'artistId': 518462, 'collectionId': 198154274, 'amgArtistId': 52456, 'artistName': 'Louis Armstrong', 'collectionName': 'The Hot Fives and Hot Sevens - Volume II', 'collectionCensoredName': 'The Hot Fives and Hot Sevens - Volume II', 'artistViewUrl': 'https://music.apple.com/us/artist/louis-armstrong/518462?uo=4', 'collectionViewUrl': 'https://music.apple.com/us/album/the-hot-fives-and-hot-sevens-volume-ii/198154274?uo=4', 'artworkUrl60': 'https://is1-ssl.mzstatic.com/image/thumb/Features/a0/39/18/dj.yzxzouhk.jpg/60x60bb.jpg', 'artworkUrl100': 'https://is1-ssl.mzstatic.com/image/thumb/Features/a0/39/18/dj.yzxzouhk.jpg/100x100bb.jpg', 'collectionPrice': 9.99, 'collectionExplicitness': 'notExplicit', 'trackCount': 16, 'copyright': '℗ Originally Released 1926, 1927 SONY BMG MUSIC ENTERTAINMENT', 'country': 'USA', 'currency': 'USD', 'releaseDate': '1988-08-30T07:00:00Z', 'primaryGenreName': 'Jazz'}, {'wrapperType': 'collection', 'collectionType': 'Album', 'artistId': 518462, 'collectionId': 1422000964, 'amgArtistId': 52456, 'artistName': 'Louis Armstrong', 'collectionName': 'Hello, Dolly! (Remastered)', 'collectionCensoredName': 'Hello, Dolly! (Remastered)', 'artistViewUrl': 'https://music.apple.com/us/artist/louis-armstrong/518462?uo=4', 'collectionViewUrl': 'https://music.apple.com/us/album/hello-dolly-remastered/1422000964?uo=4', 'artworkUrl60': 'https://is1-ssl.mzstatic.com/image/thumb/Music221/v4/08/7d/40/087d4000-5a0f-2803-61d6-4adfc9401ff8/06UMGIM02668.rgb.jpg/60x60bb.jpg', 'artworkUrl100': 'https://is1-ssl.mzstatic.com/image/thumb/Music221/v4/08/7d/40/087d4000-5a0f-2803-61d6-4adfc9401ff8/06UMGIM02668.rgb.jpg/100x100bb.jpg', 'collectionPrice': 9.99, 'collectionExplicitness': 'notExplicit', 'trackCount': 12, 'copyright': 'A Verve Label Group release; ℗ 1964 UMG Recordings, Inc.', 'country': 'USA', 'currency': 'USD', 'releaseDate': '1964-10-25T07:00:00Z', 'primaryGenreName': 'Jazz'}, {'wrapperType': 'collection', 'collectionType': 'Album', 'artistId': 518462, 'collectionId': 1430170339, 'amgArtistId': 52456, 'artistName': 'Louis Armstrong', 'collectionName': 'Hello Louis: The Hit Years (1963-1969)', 'collectionCensoredName': 'Hello Louis: The Hit Years (1963-1969)', 'artistViewUrl': 'https://music.apple.com/us/artist/louis-armstrong/518462?uo=4', 'collectionViewUrl': 'https://music.apple.com/us/album/hello-louis-the-hit-years-1963-1969/1430170339?uo=4', 'artworkUrl60': 'https://is1-ssl.mzstatic.com/image/thumb/Music116/v4/08/61/8f/08618f58-0645-6916-248d-4e179a23cc15/10UMGIM18453.rgb.jpg/60x60bb.jpg', 'artworkUrl100': 'https://is1-ssl.mzstatic.com/image/thumb/Music116/v4/08/61/8f/08618f58-0645-6916-248d-4e179a23cc15/10UMGIM18453.rgb.jpg/100x100bb.jpg', 'collectionPrice': 19.99, 'collectionExplicitness': 'notExplicit', 'trackCount': 39, 'copyright': 'This Compilation ℗ 2010 The Verve Music Group, a Division of UMG Recordings, Inc.', 'country': 'USA', 'currency': 'USD', 'releaseDate': '2010-01-01T08:00:00Z', 'primaryGenreName': 'Jazz'}, {'wrapperType': 'collection', 'collectionType': 'Album', 'artistId': 518462, 'collectionId': 185583127, 'amgArtistId': 52456, 'artistName': 'Louis Armstrong', 'collectionName': 'Stardust', 'collectionCensoredName': 'Stardust', 'artistViewUrl': 'https://music.apple.com/us/artist/louis-armstrong/518462?uo=4', 'collectionViewUrl': 'https://music.apple.com/us/album/stardust/185583127?uo=4', 'artworkUrl60': 'https://is1-ssl.mzstatic.com/image/thumb/Music/ea/a4/4f/mzi.hgjrbnnn.jpg/60x60bb.jpg', 'artworkUrl100': 'https://is1-ssl.mzstatic.com/image/thumb/Music/ea/a4/4f/mzi.hgjrbnnn.jpg/100x100bb.jpg', 'collectionPrice': 9.99, 'collectionExplicitness': 'notExplicit', 'trackCount': 16, 'copyright': '℗ Originally released 1930, 1931, 1932 Sony Music Entertainment Inc.', 'country': 'USA', 'currency': 'USD', 'releaseDate': '1988-09-16T07:00:00Z', 'primaryGenreName': 'Jazz'}, {'wrapperType': 'collection', 'collectionType': 'Album', 'artistId': 2815301, 'collectionId': 1444100500, 'amgArtistId': 7257, 'artistName': 'King Oliver & Louis Armstrong', 'collectionName': 'Louis Armstrong and King Oliver', 'collectionCensoredName': 'Louis Armstrong and King Oliver', 'artistViewUrl': 'https://music.apple.com/us/artist/king-oliver/2815301?uo=4', 'collectionViewUrl': 'https://music.apple.com/us/album/louis-armstrong-and-king-oliver/1444100500?uo=4', 'artworkUrl60': 'https://is1-ssl.mzstatic.com/image/thumb/Music118/v4/6b/e2/8b/6be28bcc-dd45-0b14-ab26-a9640e8b5e45/00025218471725.rgb.jpg/60x60bb.jpg', 'artworkUrl100': 'https://is1-ssl.mzstatic.com/image/thumb/Music118/v4/6b/e2/8b/6be28bcc-dd45-0b14-ab26-a9640e8b5e45/00025218471725.rgb.jpg/100x100bb.jpg', 'collectionPrice': 11.99, 'collectionExplicitness': 'notExplicit', 'trackCount': 25, 'copyright': 'This Compilation ℗ 1992 Fantasy, Inc.', 'country': 'USA', 'currency': 'USD', 'releaseDate': '1974-01-01T00:00:00Z', 'primaryGenreName': 'Jazz'}, {'wrapperType': 'collection', 'collectionType': 'Album', 'artistId': 518462, 'collectionId': 1757012922, 'amgArtistId': 52456, 'artistName': 'Louis Armstrong', 'collectionName': 'Wonderful World: The Best Of Louis Armstrong', 'collectionCensoredName': 'Wonderful World: The Best Of Louis Armstrong', 'artistViewUrl': 'https://music.apple.com/us/artist/louis-armstrong/518462?uo=4', 'collectionViewUrl': 'https://music.apple.com/us/album/wonderful-world-the-best-of-louis-armstrong/1757012922?uo=4', 'artworkUrl60': 'https://is1-ssl.mzstatic.com/image/thumb/Music211/v4/0e/d6/25/0ed62577-9082-3b1d-2719-b95d12b80081/24UMGIM76242.rgb.jpg/60x60bb.jpg', 'artworkUrl100': 'https://is1-ssl.mzstatic.com/image/thumb/Music211/v4/0e/d6/25/0ed62577-9082-3b1d-2719-b95d12b80081/24UMGIM76242.rgb.jpg/100x100bb.jpg', 'collectionPrice': 9.99, 'collectionExplicitness': 'notExplicit', 'trackCount': 13, 'copyright': 'A Verve Records / UMe Release.; This Compilation ℗ 2024 Verve Label Group, a Division of UMG Recordings, Inc.', 'country': 'USA', 'currency': 'USD', 'releaseDate': '2024-09-13T07:00:00Z', 'primaryGenreName': 'Jazz'}, {'wrapperType': 'collection', 'collectionType': 'Album', 'artistId': 518462, 'collectionId': 1507255091, 'amgArtistId': 52456, 'artistName': 'Louis Armstrong', 'collectionName': 'Satchmo: The Decca and Verve Years 1924-1967', 'collectionCensoredName': 'Satchmo: The Decca and Verve Years 1924-1967', 'artistViewUrl': 'https://music.apple.com/us/artist/louis-armstrong/518462?uo=4', 'collectionViewUrl': 'https://music.apple.com/us/album/satchmo-the-decca-and-verve-years-1924-1967/1507255091?uo=4', 'artworkUrl60': 'https://is1-ssl.mzstatic.com/image/thumb/Music124/v4/8f/1a/15/8f1a1572-dbd0-63d9-5930-b037e5f50558/20UMGIM04985.rgb.jpg/60x60bb.jpg', 'artworkUrl100': 'https://is1-ssl.mzstatic.com/image/thumb/Music124/v4/8f/1a/15/8f1a1572-dbd0-63d9-5930-b037e5f50558/20UMGIM04985.rgb.jpg/100x100bb.jpg', 'collectionPrice': 29.99, 'collectionExplicitness': 'notExplicit', 'trackCount': 64, 'copyright': 'A Verve Label Group Release; This Compilation ℗ 2020 UMG Recordings, Inc.', 'country': 'USA', 'currency': 'USD', 'releaseDate': '2020-04-17T07:00:00Z', 'primaryGenreName': 'Jazz'}, {'wrapperType': 'collection', 'collectionType': 'Album', 'artistId': 518462, 'collectionId': 1444127009, 'amgArtistId': 52456, 'artistName': 'Louis Armstrong', 'collectionName': 'The Best of the Decca Years, Vol. 1 - The Singer', 'collectionCensoredName': 'The Best of the Decca Years, Vol. 1 - The Singer', 'artistViewUrl': 'https://music.apple.com/us/artist/louis-armstrong/518462?uo=4', 'collectionViewUrl': 'https://music.apple.com/us/album/the-best-of-the-decca-years-vol-1-the-singer/1444127009?uo=4', 'artworkUrl60': 'https://is1-ssl.mzstatic.com/image/thumb/Music112/v4/63/08/9b/63089bf1-2cb6-7de2-c9f6-603bfcafdb81/06UMGIM00892.rgb.jpg/60x60bb.jpg', 'artworkUrl100': 'https://is1-ssl.mzstatic.com/image/thumb/Music112/v4/63/08/9b/63089bf1-2cb6-7de2-c9f6-603bfcafdb81/06UMGIM00892.rgb.jpg/100x100bb.jpg', 'collectionPrice': 7.99, 'collectionExplicitness': 'notExplicit', 'trackCount': 13, 'copyright': 'This Compilation ℗ 1989 UMG Recordings, Inc.', 'country': 'USA', 'currency': 'USD', 'releaseDate': '1989-01-01T08:00:00Z', 'primaryGenreName': 'Jazz'}, {'wrapperType': 'collection', 'collectionType': 'Album', 'artistId': 518462, 'collectionId': 203794047, 'amgArtistId': 52456, 'artistName': 'Louis Armstrong & The Louis Armstrong Orchestra', 'collectionName': 'Love Songs', 'collectionCensoredName': 'Love Songs', 'artistViewUrl': 'https://music.apple.com/us/artist/louis-armstrong/518462?uo=4', 'collectionViewUrl': 'https://music.apple.com/us/album/love-songs/203794047?uo=4', 'artworkUrl60': 'https://is1-ssl.mzstatic.com/image/thumb/Music/5d/bd/2a/mzi.jiesygla.jpg/60x60bb.jpg', 'artworkUrl100': 'https://is1-ssl.mzstatic.com/image/thumb/Music/5d/bd/2a/mzi.jiesygla.jpg/100x100bb.jpg', 'collectionPrice': 9.99, 'collectionExplicitness': 'notExplicit', 'trackCount': 15, 'copyright': '℗ Originally Released 1930, 1953, 1955, 1962, 1967, 1982/ (P) 2000 SONY BMG MUSIC ENTERTAINMENT', 'country': 'USA', 'currency': 'USD', 'releaseDate': '2000-01-01T08:00:00Z', 'primaryGenreName': 'Jazz'}, {'wrapperType': 'collection', 'collectionType': 'Album', 'artistId': 518462, 'collectionId': 1443898502, 'amgArtistId': 52456, 'artistName': 'Louis Armstrong', 'collectionName': 'Satchmo Serenades', 'collectionCensoredName': 'Satchmo Serenades', 'artistViewUrl': 'https://music.apple.com/us/artist/louis-armstrong/518462?uo=4', 'collectionViewUrl': 'https://music.apple.com/us/album/satchmo-serenades/1443898502?uo=4', 'artworkUrl60': 'https://is1-ssl.mzstatic.com/image/thumb/Music122/v4/2a/6d/0b/2a6d0bdc-7177-987a-b0be-1d5f3ad98dfb/06UMGIM72672.rgb.jpg/60x60bb.jpg', 'artworkUrl100': 'https://is1-ssl.mzstatic.com/image/thumb/Music122/v4/2a/6d/0b/2a6d0bdc-7177-987a-b0be-1d5f3ad98dfb/06UMGIM72672.rgb.jpg/100x100bb.jpg', 'collectionPrice': 9.99, 'collectionExplicitness': 'notExplicit', 'trackCount': 18, 'copyright': 'This Compilation ℗ 2000 The Verve Music Group, a Division of UMG Recordings, Inc.', 'country': 'USA', 'currency': 'USD', 'releaseDate': '1952-04-01T08:00:00Z', 'primaryGenreName': 'Jazz'}, {'wrapperType': 'collection', 'collectionType': 'Album', 'artistId': 518462, 'collectionId': 293785408, 'amgArtistId': 52456, 'artistName': 'Louis Armstrong', 'collectionName': 'The Complete Hot Five and Hot Seven Recordings, Vol. 1', 'collectionCensoredName': 'The Complete Hot Five and Hot Seven Recordings, Vol. 1', 'artistViewUrl': 'https://music.apple.com/us/artist/louis-armstrong/518462?uo=4', 'collectionViewUrl': 'https://music.apple.com/us/album/the-complete-hot-five-and-hot-seven-recordings-vol-1/293785408?uo=4', 'artworkUrl60': 'https://is1-ssl.mzstatic.com/image/thumb/Music5/v4/50/7c/fc/507cfcf4-6e01-bb97-b11d-4ca44b297365/dj.lclmweis.jpg/60x60bb.jpg', 'artworkUrl100': 'https://is1-ssl.mzstatic.com/image/thumb/Music5/v4/50/7c/fc/507cfcf4-6e01-bb97-b11d-4ca44b297365/dj.lclmweis.jpg/100x100bb.jpg', 'collectionPrice': 9.99, 'collectionExplicitness': 'notExplicit', 'trackCount': 20, 'copyright': '℗ Originally Released 1925, 1926, (P) 2003 Sony Music Entertainment Inc.', 'country': 'USA', 'currency': 'USD', 'releaseDate': '2003-04-29T07:00:00Z', 'primaryGenreName': 'Jazz'}, {'wrapperType': 'collection', 'collectionType': 'Album', 'artistId': 518462, 'collectionId': 1509083555, 'amgArtistId': 52456, 'artistName': 'Louis Armstrong', 'collectionName': 'Gold', 'collectionCensoredName': 'Gold', 'artistViewUrl': 'https://music.apple.com/us/artist/louis-armstrong/518462?uo=4', 'collectionViewUrl': 'https://music.apple.com/us/album/gold/1509083555?uo=4', 'artworkUrl60': 'https://is1-ssl.mzstatic.com/image/thumb/Music116/v4/70/e4/9a/70e49a08-6295-fe83-c883-67e1b57a4c41/06UMGIM17463.rgb.jpg/60x60bb.jpg', 'artworkUrl100': 'https://is1-ssl.mzstatic.com/image/thumb/Music116/v4/70/e4/9a/70e49a08-6295-fe83-c883-67e1b57a4c41/06UMGIM17463.rgb.jpg/100x100bb.jpg', 'collectionPrice': 19.99, 'collectionExplicitness': 'notExplicit', 'trackCount': 40, 'copyright': 'This Compilation ℗ 2006 UMG Recordings, Inc.', 'country': 'USA', 'currency': 'USD', 'releaseDate': '2006-09-19T07:00:00Z', 'primaryGenreName': 'Jazz'}, {'wrapperType': 'collection', 'collectionType': 'Album', 'artistId': 518462, 'collectionId': 912342163, 'amgArtistId': 52456, 'artistName': 'Louis Armstrong & Duke Ellington', 'collectionName': 'The Great Reunion', 'collectionCensoredName': 'The Great Reunion', 'artistViewUrl': 'https://music.apple.com/us/artist/louis-armstrong/518462?uo=4', 'collectionViewUrl': 'https://music.apple.com/us/album/the-great-reunion/912342163?uo=4', 'artworkUrl60': 'https://is1-ssl.mzstatic.com/image/thumb/Music125/v4/40/40/aa/4040aad6-6b09-c4ea-1112-9756846ee65b/825646223749.jpg/60x60bb.jpg', 'artworkUrl100': 'https://is1-ssl.mzstatic.com/image/thumb/Music125/v4/40/40/aa/4040aad6-6b09-c4ea-1112-9756846ee65b/825646223749.jpg/100x100bb.jpg', 'collectionPrice': 8.99, 'collectionExplicitness': 'notExplicit', 'trackCount': 7, 'copyright': '℗ 1963 Parlophone Records Ltd, a Warner Music Group Company', 'country': 'USA', 'currency': 'USD', 'releaseDate': '1961-06-01T07:00:00Z', 'primaryGenreName': 'Jazz'}, {'wrapperType': 'collection', 'collectionType': 'Album', 'artistId': 518462, 'collectionId': 1445668547, 'amgArtistId': 52456, 'artistName': 'Louis Armstrong', 'collectionName': 'Louis Armstrong: Highlights from His Decca Years (The Original Decca Recordings)', 'collectionCensoredName': 'Louis Armstrong: Highlights from His Decca Years (The Original Decca Recordings)', 'artistViewUrl': 'https://music.apple.com/us/artist/louis-armstrong/518462?uo=4', 'collectionViewUrl': 'https://music.apple.com/us/album/louis-armstrong-highlights-from-his-decca-years-the/1445668547?uo=4', 'artworkUrl60': 'https://is1-ssl.mzstatic.com/image/thumb/Music122/v4/4e/94/ba/4e94ba92-463f-b37e-37d9-9f543b9700c4/06UMGIM03781.rgb.jpg/60x60bb.jpg', 'artworkUrl100': 'https://is1-ssl.mzstatic.com/image/thumb/Music122/v4/4e/94/ba/4e94ba92-463f-b37e-37d9-9f543b9700c4/06UMGIM03781.rgb.jpg/100x100bb.jpg', 'collectionPrice': 16.99, 'collectionExplicitness': 'notExplicit', 'trackCount': 36, 'copyright': 'This Compilation ℗ 1994 UMG Recordings, Inc.', 'country': 'USA', 'currency': 'USD', 'releaseDate': '1994-01-01T08:00:00Z', 'primaryGenreName': 'Jazz'}, {'wrapperType': 'collection', 'collectionType': 'Album', 'artistId': 518462, 'collectionId': 198229298, 'amgArtistId': 52456, 'artistName': 'Louis Armstrong', 'collectionName': \"You're Driving Me Crazy (1930-1931), Vol. 7\", 'collectionCensoredName': \"You're Driving Me Crazy (1930-1931), Vol. 7\", 'artistViewUrl': 'https://music.apple.com/us/artist/louis-armstrong/518462?uo=4', 'collectionViewUrl': 'https://music.apple.com/us/album/youre-driving-me-crazy-1930-1931-vol-7/198229298?uo=4', 'artworkUrl60': 'https://is1-ssl.mzstatic.com/image/thumb/Music/c6/be/90/mzi.nzksavcx.jpg/60x60bb.jpg', 'artworkUrl100': 'https://is1-ssl.mzstatic.com/image/thumb/Music/c6/be/90/mzi.nzksavcx.jpg/100x100bb.jpg', 'collectionPrice': 9.99, 'collectionExplicitness': 'notExplicit', 'trackCount': 18, 'copyright': '℗ 1993 Sony Music Entertainment Inc.', 'country': 'USA', 'currency': 'USD', 'releaseDate': '1993-04-02T08:00:00Z', 'primaryGenreName': 'Jazz'}, {'wrapperType': 'collection', 'collectionType': 'Album', 'artistId': 936963, 'collectionId': 405529503, 'artistName': \"King Oliver's Creole Jazz Band\", 'collectionName': 'Editio Princeps', 'collectionCensoredName': 'Editio Princeps', 'artistViewUrl': 'https://music.apple.com/us/artist/king-olivers-creole-jazz-band/936963?uo=4', 'collectionViewUrl': 'https://music.apple.com/us/album/editio-princeps/405529503?uo=4', 'artworkUrl60': 'https://is1-ssl.mzstatic.com/image/thumb/Music/cf/40/87/mzi.kzsoibsx.jpg/60x60bb.jpg', 'artworkUrl100': 'https://is1-ssl.mzstatic.com/image/thumb/Music/cf/40/87/mzi.kzsoibsx.jpg/100x100bb.jpg', 'collectionPrice': 5.99, 'collectionExplicitness': 'notExplicit', 'trackCount': 39, 'copyright': '℗ 2010 Vintage Records', 'country': 'USA', 'currency': 'USD', 'releaseDate': '2010-11-19T08:00:00Z', 'primaryGenreName': 'Jazz'}, {'wrapperType': 'collection', 'collectionType': 'Album', 'artistId': 518462, 'collectionId': 169733658, 'amgArtistId': 52456, 'artistName': 'Louis Armstrong', 'collectionName': 'Satchmo the Great', 'collectionCensoredName': 'Satchmo the Great', 'artistViewUrl': 'https://music.apple.com/us/artist/louis-armstrong/518462?uo=4', 'collectionViewUrl': 'https://music.apple.com/us/album/satchmo-the-great/169733658?uo=4', 'artworkUrl60': 'https://is1-ssl.mzstatic.com/image/thumb/Music/7d/7a/c2/mzi.xbnzhjmr.jpg/60x60bb.jpg', 'artworkUrl100': 'https://is1-ssl.mzstatic.com/image/thumb/Music/7d/7a/c2/mzi.xbnzhjmr.jpg/100x100bb.jpg', 'collectionPrice': 9.99, 'collectionExplicitness': 'notExplicit', 'trackCount': 26, 'copyright': '℗ Originally Released 1957, Originally Recorded 1957, (P) 1980, 2000 Sony Music Entertainment Inc.', 'country': 'USA', 'currency': 'USD', 'releaseDate': '1956-01-01T00:00:00Z', 'primaryGenreName': 'Jazz'}, {'wrapperType': 'collection', 'collectionType': 'Album', 'artistId': 518462, 'collectionId': 1360037655, 'amgArtistId': 52456, 'artistName': 'Louis Armstrong', 'collectionName': 'Pops Is Tops: The Verve Studio Albums', 'collectionCensoredName': 'Pops Is Tops: The Verve Studio Albums', 'artistViewUrl': 'https://music.apple.com/us/artist/louis-armstrong/518462?uo=4', 'collectionViewUrl': 'https://music.apple.com/us/album/pops-is-tops-the-verve-studio-albums/1360037655?uo=4', 'artworkUrl60': 'https://is1-ssl.mzstatic.com/image/thumb/Music118/v4/bb/b1/52/bbb15291-9b70-8725-55b6-ccbcf93fc8a8/00602567557555.rgb.jpg/60x60bb.jpg', 'artworkUrl100': 'https://is1-ssl.mzstatic.com/image/thumb/Music118/v4/bb/b1/52/bbb15291-9b70-8725-55b6-ccbcf93fc8a8/00602567557555.rgb.jpg/100x100bb.jpg', 'collectionPrice': 34.99, 'collectionExplicitness': 'notExplicit', 'trackCount': 72, 'copyright': 'A Verve Records release; This Compilation ℗ 2018 UMG Recordings, Inc.', 'country': 'USA', 'currency': 'USD', 'releaseDate': '2018-04-13T07:00:00Z', 'primaryGenreName': 'Jazz'}, {'wrapperType': 'collection', 'collectionType': 'Album', 'artistId': 518462, 'collectionId': 1637471253, 'amgArtistId': 52456, 'artistName': 'Louis Armstrong', 'collectionName': 'February 7th. 1959 Nederland (Restauración 2022)', 'collectionCensoredName': 'February 7th. 1959 Nederland (Restauración 2022)', 'artistViewUrl': 'https://music.apple.com/us/artist/louis-armstrong/518462?uo=4', 'collectionViewUrl': 'https://music.apple.com/us/album/february-7th-1959-nederland-restauraci%C3%B3n-2022/1637471253?uo=4', 'artworkUrl60': 'https://is1-ssl.mzstatic.com/image/thumb/Music122/v4/2d/1b/18/2d1b183d-51d9-5f19-4e6f-68a1cbff87fe/196925498685.jpg/60x60bb.jpg', 'artworkUrl100': 'https://is1-ssl.mzstatic.com/image/thumb/Music122/v4/2d/1b/18/2d1b183d-51d9-5f19-4e6f-68a1cbff87fe/196925498685.jpg/100x100bb.jpg', 'collectionPrice': 9.99, 'collectionExplicitness': 'notExplicit', 'trackCount': 12, 'copyright': '℗ 2022 Lantower Records', 'country': 'USA', 'currency': 'USD', 'releaseDate': '2022-07-25T07:00:00Z', 'primaryGenreName': 'Jazz'}, {'wrapperType': 'collection', 'collectionType': 'Album', 'artistId': 518462, 'collectionId': 193044433, 'amgArtistId': 52456, 'artistName': 'Louis Armstrong', 'collectionName': 'Vol. 6 St. Louis Blues', 'collectionCensoredName': 'Vol. 6 St. Louis Blues', 'artistViewUrl': 'https://music.apple.com/us/artist/louis-armstrong/518462?uo=4', 'collectionViewUrl': 'https://music.apple.com/us/album/vol-6-st-louis-blues/193044433?uo=4', 'artworkUrl60': 'https://is1-ssl.mzstatic.com/image/thumb/Music/e5/ff/ed/mzi.skoqniyp.jpg/60x60bb.jpg', 'artworkUrl100': 'https://is1-ssl.mzstatic.com/image/thumb/Music/e5/ff/ed/mzi.skoqniyp.jpg/100x100bb.jpg', 'collectionPrice': 9.99, 'collectionExplicitness': 'notExplicit', 'trackCount': 23, 'copyright': '℗ 1991 SONY BMG MUSIC ENTERTAINMENT', 'country': 'USA', 'currency': 'USD', 'releaseDate': '1991-03-22T08:00:00Z', 'primaryGenreName': 'Jazz'}, {'wrapperType': 'collection', 'collectionType': 'Album', 'artistId': 518462, 'collectionId': 1434915606, 'amgArtistId': 52456, 'artistName': 'Louis Armstrong', 'collectionName': 'Louis Armstrong Sings : Back Through the Years', 'collectionCensoredName': 'Louis Armstrong Sings : Back Through the Years', 'artistViewUrl': 'https://music.apple.com/us/artist/louis-armstrong/518462?uo=4', 'collectionViewUrl': 'https://music.apple.com/us/album/louis-armstrong-sings-back-through-the-years/1434915606?uo=4', 'artworkUrl60': 'https://is1-ssl.mzstatic.com/image/thumb/Music126/v4/e7/49/d6/e749d685-7e9c-8f57-f5d9-cc2f212a1536/06UMGIM00890.rgb.jpg/60x60bb.jpg', 'artworkUrl100': 'https://is1-ssl.mzstatic.com/image/thumb/Music126/v4/e7/49/d6/e749d685-7e9c-8f57-f5d9-cc2f212a1536/06UMGIM00890.rgb.jpg/100x100bb.jpg', 'collectionPrice': 17.99, 'collectionExplicitness': 'notExplicit', 'trackCount': 34, 'copyright': 'A Geffen Records Release; This Compilation ℗ 2000 UMG Recordings, Inc.', 'country': 'USA', 'currency': 'USD', 'releaseDate': '2000-03-21T08:00:00Z', 'primaryGenreName': 'Jazz'}, {'wrapperType': 'collection', 'collectionType': 'Album', 'artistId': 518462, 'collectionId': 1443198374, 'amgArtistId': 52456, 'artistName': 'Louis Armstrong', 'collectionName': 'Satchmo at Symphony Hall (Live)', 'collectionCensoredName': 'Satchmo at Symphony Hall (Live)', 'artistViewUrl': 'https://music.apple.com/us/artist/louis-armstrong/518462?uo=4', 'collectionViewUrl': 'https://music.apple.com/us/album/satchmo-at-symphony-hall-live/1443198374?uo=4', 'artworkUrl60': 'https://is1-ssl.mzstatic.com/image/thumb/Music128/v4/9b/51/97/9b519762-f6bc-39a3-5936-7aa49f5bf015/00011105066129.rgb.jpg/60x60bb.jpg', 'artworkUrl100': 'https://is1-ssl.mzstatic.com/image/thumb/Music128/v4/9b/51/97/9b519762-f6bc-39a3-5936-7aa49f5bf015/00011105066129.rgb.jpg/100x100bb.jpg', 'collectionPrice': 9.99, 'collectionExplicitness': 'notExplicit', 'trackCount': 15, 'copyright': '℗ 1996 UMG Recordings, Inc.', 'country': 'USA', 'currency': 'USD', 'releaseDate': '1954-01-01T00:00:00Z', 'primaryGenreName': 'Jazz'}, {'wrapperType': 'collection', 'collectionType': 'Album', 'artistId': 518462, 'collectionId': 1435198148, 'amgArtistId': 52456, 'artistName': 'Louis Armstrong', 'collectionName': \"Let's Do It: Best of the Verve Years\", 'collectionCensoredName': \"Let's Do It: Best of the Verve Years\", 'artistViewUrl': 'https://music.apple.com/us/artist/louis-armstrong/518462?uo=4', 'collectionViewUrl': 'https://music.apple.com/us/album/lets-do-it-best-of-the-verve-years/1435198148?uo=4', 'artworkUrl60': 'https://is1-ssl.mzstatic.com/image/thumb/Music221/v4/27/25/aa/2725aacc-7fb5-b944-dfe4-b13fec3cac7e/06UMGIM07574.rgb.jpg/60x60bb.jpg', 'artworkUrl100': 'https://is1-ssl.mzstatic.com/image/thumb/Music221/v4/27/25/aa/2725aacc-7fb5-b944-dfe4-b13fec3cac7e/06UMGIM07574.rgb.jpg/100x100bb.jpg', 'collectionPrice': 16.99, 'collectionExplicitness': 'notExplicit', 'trackCount': 34, 'copyright': 'A Verve Label Group release; This Compilation ℗ 1995 UMG Recordings, Inc.', 'country': 'USA', 'currency': 'USD', 'releaseDate': '1995-09-26T07:00:00Z', 'primaryGenreName': 'Jazz'}, {'wrapperType': 'collection', 'collectionType': 'Album', 'artistId': 518462, 'collectionId': 1443240579, 'amgArtistId': 52456, 'artistName': 'Louis Armstrong', 'collectionName': 'The Decca Singles 1949-1958', 'collectionCensoredName': 'The Decca Singles 1949-1958', 'artistViewUrl': 'https://music.apple.com/us/artist/louis-armstrong/518462?uo=4', 'collectionViewUrl': 'https://music.apple.com/us/album/the-decca-singles-1949-1958/1443240579?uo=4', 'artworkUrl60': 'https://is1-ssl.mzstatic.com/image/thumb/Music126/v4/1e/dd/c5/1eddc592-1d96-d0ec-91df-100ddfbc2162/16UMGIM59587.rgb.jpg/60x60bb.jpg', 'artworkUrl100': 'https://is1-ssl.mzstatic.com/image/thumb/Music126/v4/1e/dd/c5/1eddc592-1d96-d0ec-91df-100ddfbc2162/16UMGIM59587.rgb.jpg/100x100bb.jpg', 'collectionPrice': 49.99, 'collectionExplicitness': 'notExplicit', 'trackCount': 95, 'copyright': 'This Compilation ℗ 2016 The Verve Music Group, a Division of UMG Recordings, Inc.', 'country': 'USA', 'currency': 'USD', 'releaseDate': '2016-01-01T08:00:00Z', 'primaryGenreName': 'Jazz'}, {'wrapperType': 'collection', 'collectionType': 'Album', 'artistId': 518462, 'collectionId': 1444079320, 'amgArtistId': 52456, 'artistName': 'Louis Armstrong', 'collectionName': 'Louis for Lovers', 'collectionCensoredName': 'Louis for Lovers', 'artistViewUrl': 'https://music.apple.com/us/artist/louis-armstrong/518462?uo=4', 'collectionViewUrl': 'https://music.apple.com/us/album/louis-for-lovers/1444079320?uo=4', 'artworkUrl60': 'https://is1-ssl.mzstatic.com/image/thumb/Music122/v4/c6/25/b4/c625b415-78ba-47f1-38d8-9dd44ce2c50c/06UMGIM08815.rgb.jpg/60x60bb.jpg', 'artworkUrl100': 'https://is1-ssl.mzstatic.com/image/thumb/Music122/v4/c6/25/b4/c625b415-78ba-47f1-38d8-9dd44ce2c50c/06UMGIM08815.rgb.jpg/100x100bb.jpg', 'collectionPrice': 9.99, 'collectionExplicitness': 'notExplicit', 'trackCount': 10, 'copyright': 'This Compilation ℗ 2003 The Verve Music Group, a Division of UMG Recordings, Inc.', 'country': 'USA', 'currency': 'USD', 'releaseDate': '2003-01-01T08:00:00Z', 'primaryGenreName': 'Jazz'}, {'wrapperType': 'collection', 'collectionType': 'Album', 'artistId': 518462, 'collectionId': 1165567483, 'amgArtistId': 52456, 'artistName': 'Louis Armstrong', 'collectionName': 'Louis Armstrong Plays W. C. Handy', 'collectionCensoredName': 'Louis Armstrong Plays W. C. Handy', 'artistViewUrl': 'https://music.apple.com/us/artist/louis-armstrong/518462?uo=4', 'collectionViewUrl': 'https://music.apple.com/us/album/louis-armstrong-plays-w-c-handy/1165567483?uo=4', 'artworkUrl60': 'https://is1-ssl.mzstatic.com/image/thumb/Music71/v4/4a/89/ae/4a89aeb0-a896-c7d2-25ec-51161795d43d/886446157481.jpg/60x60bb.jpg', 'artworkUrl100': 'https://is1-ssl.mzstatic.com/image/thumb/Music71/v4/4a/89/ae/4a89aeb0-a896-c7d2-25ec-51161795d43d/886446157481.jpg/100x100bb.jpg', 'collectionPrice': 9.99, 'collectionExplicitness': 'notExplicit', 'trackCount': 11, 'copyright': '℗ Originally Released 1954 Sony Music Entertainment Inc.', 'country': 'USA', 'currency': 'USD', 'releaseDate': '1954-10-01T08:00:00Z', 'primaryGenreName': 'Jazz'}, {'wrapperType': 'collection', 'collectionType': 'Album', 'artistId': 518462, 'collectionId': 258590085, 'amgArtistId': 52456, 'artistName': 'Louis Armstrong', 'collectionName': 'Sugar: The Best of the Complete RCA Victor Recordings (Remastered)', 'collectionCensoredName': 'Sugar: The Best of the Complete RCA Victor Recordings (Remastered)', 'artistViewUrl': 'https://music.apple.com/us/artist/louis-armstrong/518462?uo=4', 'collectionViewUrl': 'https://music.apple.com/us/album/sugar-the-best-of-the-complete-rca/258590085?uo=4', 'artworkUrl60': 'https://is1-ssl.mzstatic.com/image/thumb/Features/04/3c/f1/dj.vgogfkgz.jpg/60x60bb.jpg', 'artworkUrl100': 'https://is1-ssl.mzstatic.com/image/thumb/Features/04/3c/f1/dj.vgogfkgz.jpg/100x100bb.jpg', 'collectionPrice': -1.0, 'collectionExplicitness': 'notExplicit', 'trackCount': 16, 'copyright': '℗ 1930, 1947 All Rights Reserved BMG Music', 'country': 'USA', 'currency': 'USD', 'releaseDate': '1999-10-04T07:00:00Z', 'primaryGenreName': 'Jazz'}, {'wrapperType': 'collection', 'collectionType': 'Album', 'artistId': 518462, 'collectionId': 1475264667, 'amgArtistId': 52456, 'artistName': 'Louis Armstrong', 'collectionName': 'Live in Europe', 'collectionCensoredName': 'Live in Europe', 'artistViewUrl': 'https://music.apple.com/us/artist/louis-armstrong/518462?uo=4', 'collectionViewUrl': 'https://music.apple.com/us/album/live-in-europe/1475264667?uo=4', 'artworkUrl60': 'https://is1-ssl.mzstatic.com/image/thumb/Music113/v4/9e/3a/2b/9e3a2b7c-df45-25e9-5eee-b2af53beee7a/604043801527_cover.jpg/60x60bb.jpg', 'artworkUrl100': 'https://is1-ssl.mzstatic.com/image/thumb/Music113/v4/9e/3a/2b/9e3a2b7c-df45-25e9-5eee-b2af53beee7a/604043801527_cover.jpg/100x100bb.jpg', 'collectionPrice': 9.99, 'collectionExplicitness': 'notExplicit', 'trackCount': 16, 'copyright': '℗ 2019 Dot Time Legends', 'country': 'USA', 'currency': 'USD', 'releaseDate': '2019-09-27T07:00:00Z', 'primaryGenreName': 'Trad Jazz'}, {'wrapperType': 'collection', 'collectionType': 'Album', 'artistId': 518462, 'collectionId': 255376078, 'amgArtistId': 52456, 'artistName': 'Louis Armstrong', 'collectionName': \"Sings and Swings (Bluebird's Best Series) [Remastered]\", 'collectionCensoredName': \"Sings and Swings (Bluebird's Best Series) [Remastered]\", 'artistViewUrl': 'https://music.apple.com/us/artist/louis-armstrong/518462?uo=4', 'collectionViewUrl': 'https://music.apple.com/us/album/sings-and-swings-bluebirds-best-series-remastered/255376078?uo=4', 'artworkUrl60': 'https://is1-ssl.mzstatic.com/image/thumb/Features/v4/69/2a/03/692a0310-b31d-a40b-0a6c-34783a10d9e9/dj.rlczsrfb.jpg/60x60bb.jpg', 'artworkUrl100': 'https://is1-ssl.mzstatic.com/image/thumb/Features/v4/69/2a/03/692a0310-b31d-a40b-0a6c-34783a10d9e9/dj.rlczsrfb.jpg/100x100bb.jpg', 'collectionPrice': 9.99, 'collectionExplicitness': 'notExplicit', 'trackCount': 15, 'copyright': '℗ 2002 BMG', 'country': 'USA', 'currency': 'USD', 'releaseDate': '2002-07-26T07:00:00Z', 'primaryGenreName': 'Jazz'}, {'wrapperType': 'collection', 'collectionType': 'Album', 'artistId': 518462, 'collectionId': 1027535242, 'amgArtistId': 52456, 'artistName': 'Louis Armstrong and His All-Stars', 'collectionName': 'Happy Birthday Louis! (Live from The Newport Jazz Festival 1960)', 'collectionCensoredName': 'Happy Birthday Louis! (Live from The Newport Jazz Festival 1960)', 'artistViewUrl': 'https://music.apple.com/us/artist/louis-armstrong/518462?uo=4', 'collectionViewUrl': 'https://music.apple.com/us/album/happy-birthday-louis-live-from-the-newport-jazz/1027535242?uo=4', 'artworkUrl60': 'https://is1-ssl.mzstatic.com/image/thumb/Music5/v4/89/ba/2a/89ba2ae7-fd64-8079-f2a1-483edd712229/723918302423.jpg/60x60bb.jpg', 'artworkUrl100': 'https://is1-ssl.mzstatic.com/image/thumb/Music5/v4/89/ba/2a/89ba2ae7-fd64-8079-f2a1-483edd712229/723918302423.jpg/100x100bb.jpg', 'collectionPrice': 9.99, 'collectionExplicitness': 'notExplicit', 'trackCount': 20, 'copyright': '℗ 2015 Omega Classics Digital', 'country': 'USA', 'currency': 'USD', 'releaseDate': '1960-07-01T07:00:00Z', 'primaryGenreName': 'Jazz'}, {'wrapperType': 'collection', 'collectionType': 'Album', 'artistId': 518462, 'collectionId': 1394391664, 'amgArtistId': 52456, 'artistName': 'Louis Armstrong', 'collectionName': 'Louis Armstrong: Sparks, Nevada 1964! (Live)', 'collectionCensoredName': 'Louis Armstrong: Sparks, Nevada 1964! (Live)', 'artistViewUrl': 'https://music.apple.com/us/artist/louis-armstrong/518462?uo=4', 'collectionViewUrl': 'https://music.apple.com/us/album/louis-armstrong-sparks-nevada-1964-live/1394391664?uo=4', 'artworkUrl60': 'https://is1-ssl.mzstatic.com/image/thumb/Music115/v4/94/8f/ae/948fae5e-f3d3-c54c-9020-fff9ead906a9/604043801121_cover.jpg/60x60bb.jpg', 'artworkUrl100': 'https://is1-ssl.mzstatic.com/image/thumb/Music115/v4/94/8f/ae/948fae5e-f3d3-c54c-9020-fff9ead906a9/604043801121_cover.jpg/100x100bb.jpg', 'collectionPrice': 9.99, 'collectionExplicitness': 'notExplicit', 'trackCount': 11, 'copyright': '℗ 2018 Dot Time Legends', 'country': 'USA', 'currency': 'USD', 'releaseDate': '2018-06-22T07:00:00Z', 'primaryGenreName': 'Jazz'}, {'wrapperType': 'collection', 'collectionType': 'Album', 'artistId': 518462, 'collectionId': 1445962080, 'amgArtistId': 52456, 'artistName': 'Louis Armstrong', 'collectionName': 'The Definitive Collection', 'collectionCensoredName': 'The Definitive Collection', 'artistViewUrl': 'https://music.apple.com/us/artist/louis-armstrong/518462?uo=4', 'collectionViewUrl': 'https://music.apple.com/us/album/the-definitive-collection/1445962080?uo=4', 'artworkUrl60': 'https://is1-ssl.mzstatic.com/image/thumb/Music126/v4/4b/97/19/4b97196f-dc07-da4f-c4ec-23ebcc8a2a2e/06UMGIM12568.rgb.jpg/60x60bb.jpg', 'artworkUrl100': 'https://is1-ssl.mzstatic.com/image/thumb/Music126/v4/4b/97/19/4b97196f-dc07-da4f-c4ec-23ebcc8a2a2e/06UMGIM12568.rgb.jpg/100x100bb.jpg', 'collectionPrice': 12.99, 'collectionExplicitness': 'notExplicit', 'trackCount': 23, 'copyright': 'A Universal Music Enterprises Release; This Compilation ℗ 2006 UMG Recordings, Inc.', 'country': 'USA', 'currency': 'USD', 'releaseDate': '2006-01-24T08:00:00Z', 'primaryGenreName': 'Jazz'}, {'wrapperType': 'collection', 'collectionType': 'Album', 'artistId': 518462, 'collectionId': 1443216450, 'amgArtistId': 52456, 'artistName': 'Louis Armstrong', 'collectionName': 'Satchmo at Symphony Hall (65th Anniversary - The Complete Performances)', 'collectionCensoredName': 'Satchmo at Symphony Hall (65th Anniversary - The Complete Performances)', 'artistViewUrl': 'https://music.apple.com/us/artist/louis-armstrong/518462?uo=4', 'collectionViewUrl': 'https://music.apple.com/us/album/satchmo-at-symphony-hall-65th-anniversary-the/1443216450?uo=4', 'artworkUrl60': 'https://is1-ssl.mzstatic.com/image/thumb/Music128/v4/42/67/6f/42676f37-a3dc-a6a2-b584-5218f39cbf7e/00602537159062.rgb.jpg/60x60bb.jpg', 'artworkUrl100': 'https://is1-ssl.mzstatic.com/image/thumb/Music128/v4/42/67/6f/42676f37-a3dc-a6a2-b584-5218f39cbf7e/00602537159062.rgb.jpg/100x100bb.jpg', 'collectionPrice': 14.99, 'collectionExplicitness': 'notExplicit', 'trackCount': 30, 'copyright': 'This Compilation ℗ 2012 The Verve Music Group, a Division of UMG Recordings, Inc.', 'country': 'USA', 'currency': 'USD', 'releaseDate': '2012-01-01T08:00:00Z', 'primaryGenreName': 'Jazz'}, {'wrapperType': 'collection', 'collectionType': 'Album', 'artistId': 518462, 'collectionId': 268465837, 'amgArtistId': 52456, 'artistName': 'Louis Armstrong', 'collectionName': 'A 100th Birthday Celebration (Remastered 1996)', 'collectionCensoredName': 'A 100th Birthday Celebration (Remastered 1996)', 'artistViewUrl': 'https://music.apple.com/us/artist/louis-armstrong/518462?uo=4', 'collectionViewUrl': 'https://music.apple.com/us/album/a-100th-birthday-celebration-remastered-1996/268465837?uo=4', 'artworkUrl60': 'https://is1-ssl.mzstatic.com/image/thumb/Music/34/7e/d5/mzi.nigalswe.jpg/60x60bb.jpg', 'artworkUrl100': 'https://is1-ssl.mzstatic.com/image/thumb/Music/34/7e/d5/mzi.nigalswe.jpg/100x100bb.jpg', 'collectionPrice': -1.0, 'collectionExplicitness': 'notExplicit', 'trackCount': 30, 'copyright': '℗ 2000 BMG Entertainment', 'country': 'USA', 'currency': 'USD', 'releaseDate': '2000-05-26T07:00:00Z', 'primaryGenreName': 'Jazz'}, {'wrapperType': 'collection', 'collectionType': 'Album', 'artistId': 518462, 'collectionId': 193653292, 'amgArtistId': 52456, 'artistName': 'Louis Armstrong', 'collectionName': 'Louis In New York, Vol. 5', 'collectionCensoredName': 'Louis In New York, Vol. 5', 'artistViewUrl': 'https://music.apple.com/us/artist/louis-armstrong/518462?uo=4', 'collectionViewUrl': 'https://music.apple.com/us/album/louis-in-new-york-vol-5/193653292?uo=4', 'artworkUrl60': 'https://is1-ssl.mzstatic.com/image/thumb/Music/db/bd/e5/mzi.emjtgcij.jpg/60x60bb.jpg', 'artworkUrl100': 'https://is1-ssl.mzstatic.com/image/thumb/Music/db/bd/e5/mzi.emjtgcij.jpg/100x100bb.jpg', 'collectionPrice': 9.99, 'collectionExplicitness': 'notExplicit', 'trackCount': 19, 'copyright': '℗ 1990 CBS Records Inc.', 'country': 'USA', 'currency': 'USD', 'releaseDate': '1990-09-21T07:00:00Z', 'primaryGenreName': 'Jazz'}, {'wrapperType': 'collection', 'collectionType': 'Album', 'artistId': 518462, 'collectionId': 190308986, 'amgArtistId': 52456, 'artistName': 'Louis Armstrong & The Louis Armstrong Orchestra', 'collectionName': 'The Great American Songbook', 'collectionCensoredName': 'The Great American Songbook', 'artistViewUrl': 'https://music.apple.com/us/artist/louis-armstrong/518462?uo=4', 'collectionViewUrl': 'https://music.apple.com/us/album/the-great-american-songbook/190308986?uo=4', 'artworkUrl60': 'https://is1-ssl.mzstatic.com/image/thumb/Features/63/b6/da/dj.btxnuxhb.jpg/60x60bb.jpg', 'artworkUrl100': 'https://is1-ssl.mzstatic.com/image/thumb/Features/63/b6/da/dj.btxnuxhb.jpg/100x100bb.jpg', 'collectionPrice': -1.0, 'collectionExplicitness': 'notExplicit', 'trackCount': 14, 'copyright': '℗ Originally released 1929, 1930, 1931, 1932, 1933, 1947, 1957, 1958. All rights reserved by SONY BMG MUSIC ENTERTAINMENT.(P) Recorded Prior to 1972.  All Rights Reserved by Flying Dutchman.', 'country': 'USA', 'currency': 'USD', 'releaseDate': '2006-08-25T07:00:00Z', 'primaryGenreName': 'Jazz'}, {'wrapperType': 'collection', 'collectionType': 'Album', 'artistId': 518462, 'collectionId': 1452819264, 'amgArtistId': 52456, 'artistName': 'Louis Armstrong', 'collectionName': 'Satchmo - A Musical Autobiography', 'collectionCensoredName': 'Satchmo - A Musical Autobiography', 'artistViewUrl': 'https://music.apple.com/us/artist/louis-armstrong/518462?uo=4', 'collectionViewUrl': 'https://music.apple.com/us/album/satchmo-a-musical-autobiography/1452819264?uo=4', 'artworkUrl60': 'https://is1-ssl.mzstatic.com/image/thumb/Music125/v4/cb/92/39/cb923972-d770-19aa-fbc3-b1d3b4ea9e14/00731454382229.rgb.jpg/60x60bb.jpg', 'artworkUrl100': 'https://is1-ssl.mzstatic.com/image/thumb/Music125/v4/cb/92/39/cb923972-d770-19aa-fbc3-b1d3b4ea9e14/00731454382229.rgb.jpg/100x100bb.jpg', 'collectionPrice': 24.99, 'collectionExplicitness': 'notExplicit', 'trackCount': 99, 'copyright': 'This Compilation ℗ 2001 The Verve Music Group, a Division of UMG Recordings, Inc.', 'country': 'USA', 'currency': 'USD', 'releaseDate': '1957-01-01T00:00:00Z', 'primaryGenreName': 'Jazz'}, {'wrapperType': 'collection', 'collectionType': 'Album', 'artistId': 518462, 'collectionId': 1532441659, 'amgArtistId': 52456, 'artistName': 'Louis Armstrong & Fletcher Henderson', 'collectionName': 'Fletcher Henderson and Louis Armstrong 1924-1925', 'collectionCensoredName': 'Fletcher Henderson and Louis Armstrong 1924-1925', 'artistViewUrl': 'https://music.apple.com/us/artist/louis-armstrong/518462?uo=4', 'collectionViewUrl': 'https://music.apple.com/us/album/fletcher-henderson-and-louis-armstrong-1924-1925/1532441659?uo=4', 'artworkUrl60': 'https://is1-ssl.mzstatic.com/image/thumb/Music114/v4/5c/e1/81/5ce181ee-31e5-8d38-7959-559d27d28329/194491160777.jpg/60x60bb.jpg', 'artworkUrl100': 'https://is1-ssl.mzstatic.com/image/thumb/Music114/v4/5c/e1/81/5ce181ee-31e5-8d38-7959-559d27d28329/194491160777.jpg/100x100bb.jpg', 'collectionPrice': 9.99, 'collectionExplicitness': 'notExplicit', 'trackCount': 26, 'copyright': '℗ 1991 Timeless Records', 'country': 'USA', 'currency': 'USD', 'releaseDate': '1991-01-01T00:00:00Z', 'primaryGenreName': 'Jazz'}, {'wrapperType': 'collection', 'collectionType': 'Album', 'artistId': 518462, 'collectionId': 696523069, 'amgArtistId': 52456, 'artistName': 'Louis Armstrong & Duke Ellington', 'collectionName': 'The Great Summit: The Master Tapes (Remastered)', 'collectionCensoredName': 'The Great Summit: The Master Tapes (Remastered)', 'artistViewUrl': 'https://music.apple.com/us/artist/louis-armstrong/518462?uo=4', 'collectionViewUrl': 'https://music.apple.com/us/album/the-great-summit-the-master-tapes-remastered/696523069?uo=4', 'artworkUrl60': 'https://is1-ssl.mzstatic.com/image/thumb/Music115/v4/a7/43/0c/a7430c58-f4c6-36ff-8559-ead584472f55/0724352454754_1772x1772_300dpi.jpg/60x60bb.jpg', 'artworkUrl100': 'https://is1-ssl.mzstatic.com/image/thumb/Music115/v4/a7/43/0c/a7430c58-f4c6-36ff-8559-ead584472f55/0724352454754_1772x1772_300dpi.jpg/100x100bb.jpg', 'collectionPrice': 9.99, 'collectionExplicitness': 'notExplicit', 'trackCount': 17, 'copyright': '℗ 2000 Parlophone Records Ltd, a Warner Music Group Company', 'country': 'USA', 'currency': 'USD', 'releaseDate': '1961-06-01T07:00:00Z', 'primaryGenreName': 'Jazz'}, {'wrapperType': 'collection', 'collectionType': 'Album', 'artistId': 518462, 'collectionId': 457269138, 'amgArtistId': 52456, 'artistName': 'Louis Armstrong and His All-Stars', 'collectionName': 'Satch Plays Fats', 'collectionCensoredName': 'Satch Plays Fats', 'artistViewUrl': 'https://music.apple.com/us/artist/louis-armstrong/518462?uo=4', 'collectionViewUrl': 'https://music.apple.com/us/album/satch-plays-fats/457269138?uo=4', 'artworkUrl60': 'https://is1-ssl.mzstatic.com/image/thumb/Music126/v4/3b/5a/87/3b5a8725-9c0a-8dca-0fea-b64228a0ed37/dj.nvrgmsmu.jpg/60x60bb.jpg', 'artworkUrl100': 'https://is1-ssl.mzstatic.com/image/thumb/Music126/v4/3b/5a/87/3b5a8725-9c0a-8dca-0fea-b64228a0ed37/dj.nvrgmsmu.jpg/100x100bb.jpg', 'collectionPrice': 7.99, 'collectionExplicitness': 'notExplicit', 'trackCount': 9, 'copyright': '℗ 1986 Sony Music Entertainment Inc.', 'country': 'USA', 'currency': 'USD', 'releaseDate': '1955-06-01T07:00:00Z', 'primaryGenreName': 'Jazz'}, {'wrapperType': 'collection', 'collectionType': 'Album', 'artistId': 518462, 'collectionId': 1445098760, 'amgArtistId': 52456, 'artistName': 'Louis Armstrong', 'collectionName': 'An American Songbook', 'collectionCensoredName': 'An American Songbook', 'artistViewUrl': 'https://music.apple.com/us/artist/louis-armstrong/518462?uo=4', 'collectionViewUrl': 'https://music.apple.com/us/album/an-american-songbook/1445098760?uo=4', 'artworkUrl60': 'https://is1-ssl.mzstatic.com/image/thumb/Music221/v4/ba/3c/dd/ba3cdd04-4517-459b-2dd4-bb6dd39c3f94/06UMGIM25279.rgb.jpg/60x60bb.jpg', 'artworkUrl100': 'https://is1-ssl.mzstatic.com/image/thumb/Music221/v4/ba/3c/dd/ba3cdd04-4517-459b-2dd4-bb6dd39c3f94/06UMGIM25279.rgb.jpg/100x100bb.jpg', 'collectionPrice': 9.99, 'collectionExplicitness': 'notExplicit', 'trackCount': 12, 'copyright': 'A Verve Label Group Release; This Compilation ℗ 1991 UMG Recordings, Inc.', 'country': 'USA', 'currency': 'USD', 'releaseDate': '1991-10-22T07:00:00Z', 'primaryGenreName': 'Jazz'}, {'wrapperType': 'collection', 'collectionType': 'Album', 'artistId': 25687, 'collectionId': 716211198, 'amgArtistId': 3094, 'artistName': 'Bing Crosby & Louis Armstrong', 'collectionName': 'Bing & Satchmo', 'collectionCensoredName': 'Bing & Satchmo', 'artistViewUrl': 'https://music.apple.com/us/artist/bing-crosby/25687?uo=4', 'collectionViewUrl': 'https://music.apple.com/us/album/bing-satchmo/716211198?uo=4', 'artworkUrl60': 'https://is1-ssl.mzstatic.com/image/thumb/Music4/v4/0b/b5/cd/0bb5cdde-b569-ede4-beff-798ae6c4b26f/05099968641757.jpg/60x60bb.jpg', 'artworkUrl100': 'https://is1-ssl.mzstatic.com/image/thumb/Music4/v4/0b/b5/cd/0bb5cdde-b569-ede4-beff-798ae6c4b26f/05099968641757.jpg/100x100bb.jpg', 'collectionPrice': 9.99, 'collectionExplicitness': 'notExplicit', 'trackCount': 12, 'copyright': 'This Compilation ℗ 2008 Capitol Records, LLC', 'country': 'USA', 'currency': 'USD', 'releaseDate': '1960-10-01T08:00:00Z', 'primaryGenreName': 'Vocal'}, {'wrapperType': 'collection', 'collectionType': 'Album', 'artistId': 518462, 'collectionId': 1443725249, 'amgArtistId': 52456, 'artistName': 'Louis Armstrong', 'collectionName': 'Satchmo at Pasadena (Live)', 'collectionCensoredName': 'Satchmo at Pasadena (Live)', 'artistViewUrl': 'https://music.apple.com/us/artist/louis-armstrong/518462?uo=4', 'collectionViewUrl': 'https://music.apple.com/us/album/satchmo-at-pasadena-live/1443725249?uo=4', 'artworkUrl60': 'https://is1-ssl.mzstatic.com/image/thumb/Music124/v4/5b/ae/94/5bae948c-dc9e-d839-2ada-6ea5a7a149b1/08UMGIM27849.rgb.jpg/60x60bb.jpg', 'artworkUrl100': 'https://is1-ssl.mzstatic.com/image/thumb/Music124/v4/5b/ae/94/5bae948c-dc9e-d839-2ada-6ea5a7a149b1/08UMGIM27849.rgb.jpg/100x100bb.jpg', 'collectionPrice': 9.99, 'collectionExplicitness': 'notExplicit', 'trackCount': 10, 'copyright': '℗ 2008 The Verve Music Group, a Division of UMG Recordings, Inc.', 'country': 'USA', 'currency': 'USD', 'releaseDate': '1951-06-01T07:00:00Z', 'primaryGenreName': 'Jazz'}, {'wrapperType': 'collection', 'collectionType': 'Album', 'artistId': 518462, 'collectionId': 1434274390, 'amgArtistId': 52456, 'artistName': 'Louis Armstrong and The All Stars', 'collectionName': 'The Columbia & RCA Victor Live Recordings, Vol. 1', 'collectionCensoredName': 'The Columbia & RCA Victor Live Recordings, Vol. 1', 'artistViewUrl': 'https://music.apple.com/us/artist/louis-armstrong/518462?uo=4', 'collectionViewUrl': 'https://music.apple.com/us/album/the-columbia-rca-victor-live-recordings-vol-1/1434274390?uo=4', 'artworkUrl60': 'https://is1-ssl.mzstatic.com/image/thumb/Music118/v4/ec/af/2c/ecaf2c16-6581-6062-f14b-715235e06463/886446674582.jpg/60x60bb.jpg', 'artworkUrl100': 'https://is1-ssl.mzstatic.com/image/thumb/Music118/v4/ec/af/2c/ecaf2c16-6581-6062-f14b-715235e06463/886446674582.jpg/100x100bb.jpg', 'collectionPrice': 24.99, 'collectionExplicitness': 'notExplicit', 'trackCount': 51, 'copyright': '℗ This compilation (P) 2014 Sony Music Entertainment', 'country': 'USA', 'currency': 'USD', 'releaseDate': '1958-01-01T08:00:00Z', 'primaryGenreName': 'Jazz'}, {'wrapperType': 'collection', 'collectionType': 'Album', 'artistId': 518462, 'collectionId': 1445667326, 'amgArtistId': 52456, 'artistName': 'Louis Armstrong', 'collectionName': 'The California Concerts (Live)', 'collectionCensoredName': 'The California Concerts (Live)', 'artistViewUrl': 'https://music.apple.com/us/artist/louis-armstrong/518462?uo=4', 'collectionViewUrl': 'https://music.apple.com/us/album/the-california-concerts-live/1445667326?uo=4', 'artworkUrl60': 'https://is1-ssl.mzstatic.com/image/thumb/Music122/v4/67/c1/8c/67c18c9a-1a1b-c88f-e805-9e6900091885/06UMGIM03787.rgb.jpg/60x60bb.jpg', 'artworkUrl100': 'https://is1-ssl.mzstatic.com/image/thumb/Music122/v4/67/c1/8c/67c18c9a-1a1b-c88f-e805-9e6900091885/06UMGIM03787.rgb.jpg/100x100bb.jpg', 'collectionPrice': 29.99, 'collectionExplicitness': 'notExplicit', 'trackCount': 59, 'copyright': 'This Compilation ℗ 1992 UMG Recordings, Inc.', 'country': 'USA', 'currency': 'USD', 'releaseDate': '1992-01-01T08:00:00Z', 'primaryGenreName': 'Jazz'}, {'wrapperType': 'collection', 'collectionType': 'Album', 'artistId': 518462, 'collectionId': 1444199863, 'amgArtistId': 52456, 'artistName': 'Louis Armstrong', 'collectionName': 'Louis and the Angels', 'collectionCensoredName': 'Louis and the Angels', 'artistViewUrl': 'https://music.apple.com/us/artist/louis-armstrong/518462?uo=4', 'collectionViewUrl': 'https://music.apple.com/us/album/louis-and-the-angels/1444199863?uo=4', 'artworkUrl60': 'https://is1-ssl.mzstatic.com/image/thumb/Music123/v4/50/49/8f/50498fea-9583-9c20-c9b6-135b2a39cb0a/06UMGIM07576.rgb.jpg/60x60bb.jpg', 'artworkUrl100': 'https://is1-ssl.mzstatic.com/image/thumb/Music123/v4/50/49/8f/50498fea-9583-9c20-c9b6-135b2a39cb0a/06UMGIM07576.rgb.jpg/100x100bb.jpg', 'collectionPrice': 9.99, 'collectionExplicitness': 'notExplicit', 'trackCount': 12, 'copyright': '℗ 1957 UMG Recordings, Inc.', 'country': 'USA', 'currency': 'USD', 'releaseDate': '1957-01-01T08:00:00Z', 'primaryGenreName': 'Jazz'}, {'wrapperType': 'collection', 'collectionType': 'Album', 'artistId': 518462, 'collectionId': 1444083375, 'amgArtistId': 52456, 'artistName': 'Louis Armstrong', 'collectionName': 'Satchmo in Style (Bonus Track) [with Gordon Jenkins]', 'collectionCensoredName': 'Satchmo in Style (Bonus Track) [with Gordon Jenkins]', 'artistViewUrl': 'https://music.apple.com/us/artist/louis-armstrong/518462?uo=4', 'collectionViewUrl': 'https://music.apple.com/us/album/satchmo-in-style-bonus-track-with-gordon-jenkins/1444083375?uo=4', 'artworkUrl60': 'https://is1-ssl.mzstatic.com/image/thumb/Music124/v4/04/86/25/048625bb-80b4-a0e1-2ab0-ec27c17855b3/06UMGIM06926.rgb.jpg/60x60bb.jpg', 'artworkUrl100': 'https://is1-ssl.mzstatic.com/image/thumb/Music124/v4/04/86/25/048625bb-80b4-a0e1-2ab0-ec27c17855b3/06UMGIM06926.rgb.jpg/100x100bb.jpg', 'collectionPrice': 9.99, 'collectionExplicitness': 'notExplicit', 'trackCount': 16, 'copyright': 'This Compilation ℗ 2001 The Verve Music Group, a Division of UMG Recordings, Inc.', 'country': 'USA', 'currency': 'USD', 'releaseDate': '1959-05-14T07:00:00Z', 'primaryGenreName': 'Jazz'}, {'wrapperType': 'collection', 'collectionType': 'Album', 'artistId': 518462, 'collectionId': 1443806118, 'amgArtistId': 52456, 'artistName': 'Louis Armstrong', 'collectionName': 'Louis Under the Stars', 'collectionCensoredName': 'Louis Under the Stars', 'artistViewUrl': 'https://music.apple.com/us/artist/louis-armstrong/518462?uo=4', 'collectionViewUrl': 'https://music.apple.com/us/album/louis-under-the-stars/1443806118?uo=4', 'artworkUrl60': 'https://is1-ssl.mzstatic.com/image/thumb/Music128/v4/03/7a/47/037a47f6-015f-a142-fa3e-f95b4848d134/00602547068521.rgb.jpg/60x60bb.jpg', 'artworkUrl100': 'https://is1-ssl.mzstatic.com/image/thumb/Music128/v4/03/7a/47/037a47f6-015f-a142-fa3e-f95b4848d134/00602547068521.rgb.jpg/100x100bb.jpg', 'collectionPrice': 9.99, 'collectionExplicitness': 'notExplicit', 'trackCount': 10, 'copyright': '℗ 2014 The Verve Music Group, a Division of UMG Recordings, Inc.', 'country': 'USA', 'currency': 'USD', 'releaseDate': '1957-01-01T00:00:00Z', 'primaryGenreName': 'Jazz'}, {'wrapperType': 'collection', 'collectionType': 'Album', 'artistId': 518462, 'collectionId': 454751828, 'amgArtistId': 52456, 'artistName': 'Louis Armstrong', 'collectionName': 'St. Louis Blues (Carnegie Hall 1947)', 'collectionCensoredName': 'St. Louis Blues (Carnegie Hall 1947)', 'artistViewUrl': 'https://music.apple.com/us/artist/louis-armstrong/518462?uo=4', 'collectionViewUrl': 'https://music.apple.com/us/album/st-louis-blues-carnegie-hall-1947/454751828?uo=4', 'artworkUrl60': 'https://is1-ssl.mzstatic.com/image/thumb/Music/f3/d2/56/mzi.lzdlzalq.jpg/60x60bb.jpg', 'artworkUrl100': 'https://is1-ssl.mzstatic.com/image/thumb/Music/f3/d2/56/mzi.lzdlzalq.jpg/100x100bb.jpg', 'collectionPrice': 9.99, 'collectionExplicitness': 'notExplicit', 'trackCount': 12, 'copyright': '℗ 1947 1201 Music (Americas) LLC', 'country': 'USA', 'currency': 'USD', 'releaseDate': '1947-09-15T08:00:00Z', 'primaryGenreName': 'Trad Jazz'}, {'wrapperType': 'collection', 'collectionType': 'Album', 'artistId': 518462, 'collectionId': 293786372, 'amgArtistId': 52456, 'artistName': 'Louis Armstrong', 'collectionName': 'Falling In Love With Louis Armstrong', 'collectionCensoredName': 'Falling In Love With Louis Armstrong', 'artistViewUrl': 'https://music.apple.com/us/artist/louis-armstrong/518462?uo=4', 'collectionViewUrl': 'https://music.apple.com/us/album/falling-in-love-with-louis-armstrong/293786372?uo=4', 'artworkUrl60': 'https://is1-ssl.mzstatic.com/image/thumb/Music/b1/d0/91/mzi.zjvrdgqb.jpg/60x60bb.jpg', 'artworkUrl100': 'https://is1-ssl.mzstatic.com/image/thumb/Music/b1/d0/91/mzi.zjvrdgqb.jpg/100x100bb.jpg', 'collectionPrice': 9.99, 'collectionExplicitness': 'notExplicit', 'trackCount': 16, 'copyright': '℗ 2000, BMG Entertainment', 'country': 'USA', 'currency': 'USD', 'releaseDate': '1999-12-31T08:00:00Z', 'primaryGenreName': 'Jazz'}, {'wrapperType': 'collection', 'collectionType': 'Album', 'artistId': 518462, 'collectionId': 1442930449, 'amgArtistId': 52456, 'artistName': 'Louis Armstrong', 'collectionName': 'Pete Fountain Presents the Best of Dixieland: Louis Armstrong', 'collectionCensoredName': 'Pete Fountain Presents the Best of Dixieland: Louis Armstrong', 'artistViewUrl': 'https://music.apple.com/us/artist/louis-armstrong/518462?uo=4', 'collectionViewUrl': 'https://music.apple.com/us/album/pete-fountain-presents-the-best-of-dixieland/1442930449?uo=4', 'artworkUrl60': 'https://is1-ssl.mzstatic.com/image/thumb/Music118/v4/ba/a2/3c/baa23cb7-442b-5719-de80-d4bd394c75b1/00731454936323.rgb.jpg/60x60bb.jpg', 'artworkUrl100': 'https://is1-ssl.mzstatic.com/image/thumb/Music118/v4/ba/a2/3c/baa23cb7-442b-5719-de80-d4bd394c75b1/00731454936323.rgb.jpg/100x100bb.jpg', 'collectionPrice': 9.99, 'collectionExplicitness': 'notExplicit', 'trackCount': 15, 'copyright': 'This Compilation ℗ 2001 The Verve Music Group, a Division of UMG Recordings, Inc.', 'country': 'USA', 'currency': 'USD', 'releaseDate': '2001-01-01T08:00:00Z', 'primaryGenreName': 'Jazz'}, {'wrapperType': 'collection', 'collectionType': 'Album', 'artistId': 518462, 'collectionId': 1475524510, 'amgArtistId': 52456, 'artistName': 'Louis Armstrong', 'collectionName': 'Portrait of the Artist As a Young Man 1923-1934', 'collectionCensoredName': 'Portrait of the Artist As a Young Man 1923-1934', 'artistViewUrl': 'https://music.apple.com/us/artist/louis-armstrong/518462?uo=4', 'collectionViewUrl': 'https://music.apple.com/us/album/portrait-of-the-artist-as-a-young-man-1923-1934/1475524510?uo=4', 'artworkUrl60': 'https://is1-ssl.mzstatic.com/image/thumb/Music124/v4/72/a0/15/72a0150c-aae6-998b-a4bb-89e390822e4d/886447889183.jpg/60x60bb.jpg', 'artworkUrl100': 'https://is1-ssl.mzstatic.com/image/thumb/Music124/v4/72/a0/15/72a0150c-aae6-998b-a4bb-89e390822e4d/886447889183.jpg/100x100bb.jpg', 'collectionPrice': 34.99, 'collectionExplicitness': 'notExplicit', 'trackCount': 81, 'copyright': '℗ This compilation (P) 1994 Sony Music Entertainment', 'country': 'USA', 'currency': 'USD', 'releaseDate': '1994-09-27T07:00:00Z', 'primaryGenreName': 'Jazz'}, {'wrapperType': 'collection', 'collectionType': 'Album', 'artistId': 518462, 'collectionId': 304759214, 'amgArtistId': 52456, 'artistName': 'Louis Armstrong', 'collectionName': 'Platinum & Gold Collection: Louis Armstrong (Remastered)', 'collectionCensoredName': 'Platinum & Gold Collection: Louis Armstrong (Remastered)', 'artistViewUrl': 'https://music.apple.com/us/artist/louis-armstrong/518462?uo=4', 'collectionViewUrl': 'https://music.apple.com/us/album/platinum-gold-collection-louis-armstrong-remastered/304759214?uo=4', 'artworkUrl60': 'https://is1-ssl.mzstatic.com/image/thumb/Music/e4/38/b2/mzi.dtwcrldd.jpg/60x60bb.jpg', 'artworkUrl100': 'https://is1-ssl.mzstatic.com/image/thumb/Music/e4/38/b2/mzi.dtwcrldd.jpg/100x100bb.jpg', 'collectionPrice': 9.99, 'collectionExplicitness': 'notExplicit', 'trackCount': 12, 'copyright': '℗ 2003 BMG Heritage', 'country': 'USA', 'currency': 'USD', 'releaseDate': '2003-08-18T07:00:00Z', 'primaryGenreName': 'Jazz'}, {'wrapperType': 'collection', 'collectionType': 'Album', 'artistId': 518462, 'collectionId': 1445667039, 'amgArtistId': 52456, 'artistName': 'Louis Armstrong', 'collectionName': 'Louis', 'collectionCensoredName': 'Louis', 'artistViewUrl': 'https://music.apple.com/us/artist/louis-armstrong/518462?uo=4', 'collectionViewUrl': 'https://music.apple.com/us/album/louis/1445667039?uo=4', 'artworkUrl60': 'https://is1-ssl.mzstatic.com/image/thumb/Music128/v4/44/b2/e8/44b2e83c-e11b-f62a-030c-76d1e578c064/00602557615210.rgb.jpg/60x60bb.jpg', 'artworkUrl100': 'https://is1-ssl.mzstatic.com/image/thumb/Music128/v4/44/b2/e8/44b2e83c-e11b-f62a-030c-76d1e578c064/00602557615210.rgb.jpg/100x100bb.jpg', 'collectionPrice': 9.99, 'collectionExplicitness': 'notExplicit', 'trackCount': 12, 'copyright': '℗ 2017 Verve Label Group, a Division of UMG Recordings, Inc.', 'country': 'USA', 'currency': 'USD', 'releaseDate': '1966-06-01T07:00:00Z', 'primaryGenreName': 'Jazz'}, {'wrapperType': 'collection', 'collectionType': 'Album', 'artistId': 518462, 'collectionId': 1442906874, 'amgArtistId': 52456, 'artistName': 'Louis Armstrong', 'collectionName': 'I Love Jazz ((Remastered))', 'collectionCensoredName': 'I Love Jazz ((Remastered))', 'artistViewUrl': 'https://music.apple.com/us/artist/louis-armstrong/518462?uo=4', 'collectionViewUrl': 'https://music.apple.com/us/album/i-love-jazz-remastered/1442906874?uo=4', 'artworkUrl60': 'https://is1-ssl.mzstatic.com/image/thumb/Music118/v4/a9/ef/49/a9ef49eb-319a-84aa-0fc3-8ca5489aefd9/00731454374729.rgb.jpg/60x60bb.jpg', 'artworkUrl100': 'https://is1-ssl.mzstatic.com/image/thumb/Music118/v4/a9/ef/49/a9ef49eb-319a-84aa-0fc3-8ca5489aefd9/00731454374729.rgb.jpg/100x100bb.jpg', 'collectionPrice': 9.99, 'collectionExplicitness': 'notExplicit', 'trackCount': 9, 'copyright': 'This Compilation ℗ 2000 The Verve Music Group, a Division of UMG Recordings, Inc.', 'country': 'USA', 'currency': 'USD', 'releaseDate': '1962-01-01T08:00:00Z', 'primaryGenreName': 'Jazz'}, {'wrapperType': 'collection', 'collectionType': 'Album', 'artistId': 518462, 'collectionId': 1434274831, 'amgArtistId': 52456, 'artistName': 'Louis Armstrong and The All Stars', 'collectionName': 'The Columbia & RCA Victor Live Recordings, Vol. 3', 'collectionCensoredName': 'The Columbia & RCA Victor Live Recordings, Vol. 3', 'artistViewUrl': 'https://music.apple.com/us/artist/louis-armstrong/518462?uo=4', 'collectionViewUrl': 'https://music.apple.com/us/album/the-columbia-rca-victor-live-recordings-vol-3/1434274831?uo=4', 'artworkUrl60': 'https://is1-ssl.mzstatic.com/image/thumb/Music118/v4/0f/c7/b2/0fc7b2f5-fbc4-ac80-738d-9bd05ba8e74a/886446684086.jpg/60x60bb.jpg', 'artworkUrl100': 'https://is1-ssl.mzstatic.com/image/thumb/Music118/v4/0f/c7/b2/0fc7b2f5-fbc4-ac80-738d-9bd05ba8e74a/886446684086.jpg/100x100bb.jpg', 'collectionPrice': 24.99, 'collectionExplicitness': 'notExplicit', 'trackCount': 57, 'copyright': '℗ This compilation (P) 2018 Sony Music Entertainment', 'country': 'USA', 'currency': 'USD', 'releaseDate': '1958-01-01T08:00:00Z', 'primaryGenreName': 'Jazz'}, {'wrapperType': 'collection', 'collectionType': 'Album', 'artistId': 518462, 'collectionId': 1621356609, 'amgArtistId': 52456, 'artistName': 'Louis Armstrong', 'collectionName': 'Louis Armstrong and His Friends', 'collectionCensoredName': 'Louis Armstrong and His Friends', 'artistViewUrl': 'https://music.apple.com/us/artist/louis-armstrong/518462?uo=4', 'collectionViewUrl': 'https://music.apple.com/us/album/louis-armstrong-and-his-friends/1621356609?uo=4', 'artworkUrl60': 'https://is1-ssl.mzstatic.com/image/thumb/Music221/v4/4c/ae/72/4cae7251-e168-3548-aad0-bb91394d569d/29667059589.jpg/60x60bb.jpg', 'artworkUrl100': 'https://is1-ssl.mzstatic.com/image/thumb/Music221/v4/4c/ae/72/4cae7251-e168-3548-aad0-bb91394d569d/29667059589.jpg/100x100bb.jpg', 'collectionPrice': 9.99, 'collectionExplicitness': 'notExplicit', 'trackCount': 10, 'copyright': '℗ 2014 Ace Records', 'country': 'USA', 'currency': 'USD', 'releaseDate': '1970-01-01T08:00:00Z', 'primaryGenreName': 'Jazz'}, {'wrapperType': 'collection', 'collectionType': 'Album', 'artistId': 518462, 'collectionId': 693616232, 'amgArtistId': 52456, 'artistName': 'Louis Armstrong', 'collectionName': \"Swingin' Hits\", 'collectionCensoredName': \"Swingin' Hits\", 'artistViewUrl': 'https://music.apple.com/us/artist/louis-armstrong/518462?uo=4', 'collectionViewUrl': 'https://music.apple.com/us/album/swingin-hits/693616232?uo=4', 'artworkUrl60': 'https://is1-ssl.mzstatic.com/image/thumb/Music117/v4/dd/af/c9/ddafc98e-c0ac-afa5-1170-a34fe6fa1962/015707050357.jpg/60x60bb.jpg', 'artworkUrl100': 'https://is1-ssl.mzstatic.com/image/thumb/Music117/v4/dd/af/c9/ddafc98e-c0ac-afa5-1170-a34fe6fa1962/015707050357.jpg/100x100bb.jpg', 'collectionPrice': 8.91, 'collectionExplicitness': 'notExplicit', 'trackCount': 9, 'copyright': '℗ 2006 Vanguard. All Rights Reserved. Unauthorized Reproduction is a Violation of Applicable Laws.', 'country': 'USA', 'currency': 'USD', 'releaseDate': '1994-01-01T00:00:00Z', 'primaryGenreName': 'Jazz'}, {'wrapperType': 'collection', 'collectionType': 'Album', 'artistId': 518462, 'collectionId': 299672884, 'amgArtistId': 52456, 'artistName': 'Louis Armstrong', 'collectionName': 'Louis Armstrong: More Greatest Hits', 'collectionCensoredName': 'Louis Armstrong: More Greatest Hits', 'artistViewUrl': 'https://music.apple.com/us/artist/louis-armstrong/518462?uo=4', 'collectionViewUrl': 'https://music.apple.com/us/album/louis-armstrong-more-greatest-hits/299672884?uo=4', 'artworkUrl60': 'https://is1-ssl.mzstatic.com/image/thumb/Music/49/37/83/mzi.ibhibunz.jpg/60x60bb.jpg', 'artworkUrl100': 'https://is1-ssl.mzstatic.com/image/thumb/Music/49/37/83/mzi.ibhibunz.jpg/100x100bb.jpg', 'collectionPrice': -1.0, 'collectionExplicitness': 'notExplicit', 'trackCount': 18, 'copyright': '℗ P: 1998, BMG Entertainment', 'country': 'USA', 'currency': 'USD', 'releaseDate': '1990-01-01T08:00:00Z', 'primaryGenreName': 'Jazz'}, {'wrapperType': 'collection', 'collectionType': 'Album', 'artistId': 518462, 'collectionId': 159085964, 'amgArtistId': 52456, 'artistName': 'Louis Armstrong', 'collectionName': 'Jazz Moods - Hot', 'collectionCensoredName': 'Jazz Moods - Hot', 'artistViewUrl': 'https://music.apple.com/us/artist/louis-armstrong/518462?uo=4', 'collectionViewUrl': 'https://music.apple.com/us/album/jazz-moods-hot/159085964?uo=4', 'artworkUrl60': 'https://is1-ssl.mzstatic.com/image/thumb/Music/d2/2a/fe/mzi.kqvaclkn.jpg/60x60bb.jpg', 'artworkUrl100': 'https://is1-ssl.mzstatic.com/image/thumb/Music/d2/2a/fe/mzi.kqvaclkn.jpg/100x100bb.jpg', 'collectionPrice': 9.99, 'collectionExplicitness': 'notExplicit', 'trackCount': 14, 'copyright': '℗ Originally Released 1926, 1927, 1928, 1929, 1941, (P) 2005 SONY BMG MUSIC ENTERTAINMENT', 'country': 'USA', 'currency': 'USD', 'releaseDate': '2005-04-04T07:00:00Z', 'primaryGenreName': 'Jazz'}, {'wrapperType': 'collection', 'collectionType': 'Album', 'artistId': 518462, 'collectionId': 1444070460, 'amgArtistId': 52456, 'artistName': 'Louis Armstrong', 'collectionName': 'Mack the Knife (Live)', 'collectionCensoredName': 'Mack the Knife (Live)', 'artistViewUrl': 'https://music.apple.com/us/artist/louis-armstrong/518462?uo=4', 'collectionViewUrl': 'https://music.apple.com/us/album/mack-the-knife-live/1444070460?uo=4', 'artworkUrl60': 'https://is1-ssl.mzstatic.com/image/thumb/Music128/v4/09/b1/4c/09b14cdf-cf32-040f-9c45-80e154686a0a/00025218094122.rgb.jpg/60x60bb.jpg', 'artworkUrl100': 'https://is1-ssl.mzstatic.com/image/thumb/Music128/v4/09/b1/4c/09b14cdf-cf32-040f-9c45-80e154686a0a/00025218094122.rgb.jpg/100x100bb.jpg', 'collectionPrice': 9.99, 'collectionExplicitness': 'notExplicit', 'trackCount': 11, 'copyright': '℗ 1957 Pablo Records', 'country': 'USA', 'currency': 'USD', 'releaseDate': '1957-01-01T08:00:00Z', 'primaryGenreName': 'Jazz'}, {'wrapperType': 'collection', 'collectionType': 'Album', 'artistId': 518462, 'collectionId': 1438461176, 'amgArtistId': 52456, 'artistName': 'Louis Armstrong', 'collectionName': 'Satchmo Sings', 'collectionCensoredName': 'Satchmo Sings', 'artistViewUrl': 'https://music.apple.com/us/artist/louis-armstrong/518462?uo=4', 'collectionViewUrl': 'https://music.apple.com/us/album/satchmo-sings/1438461176?uo=4', 'artworkUrl60': 'https://is1-ssl.mzstatic.com/image/thumb/Music122/v4/93/3e/c4/933ec4c1-9b7c-154c-1e70-58b8860b266c/18UMGIM63765.rgb.jpg/60x60bb.jpg', 'artworkUrl100': 'https://is1-ssl.mzstatic.com/image/thumb/Music122/v4/93/3e/c4/933ec4c1-9b7c-154c-1e70-58b8860b266c/18UMGIM63765.rgb.jpg/100x100bb.jpg', 'collectionPrice': 9.99, 'collectionExplicitness': 'notExplicit', 'trackCount': 12, 'copyright': 'A Verve Label Group Release; This Compilation ℗ 1955 UMG Recordings, Inc.', 'country': 'USA', 'currency': 'USD', 'releaseDate': '1955-01-01T08:00:00Z', 'primaryGenreName': 'Jazz'}, {'wrapperType': 'collection', 'collectionType': 'Album', 'artistId': 518462, 'collectionId': 1607165210, 'amgArtistId': 52456, 'artistName': 'Louis Armstrong & The Mills Brothers', 'collectionName': 'Louis Armstrong And The Mills Brothers', 'collectionCensoredName': 'Louis Armstrong And The Mills Brothers', 'artistViewUrl': 'https://music.apple.com/us/artist/louis-armstrong/518462?uo=4', 'collectionViewUrl': 'https://music.apple.com/us/album/louis-armstrong-and-the-mills-brothers/1607165210?uo=4', 'artworkUrl60': 'https://is1-ssl.mzstatic.com/image/thumb/Music126/v4/18/fb/26/18fb26b4-0e8a-2fbb-4169-639ebc038f8b/21UM1IM28412.rgb.jpg/60x60bb.jpg', 'artworkUrl100': 'https://is1-ssl.mzstatic.com/image/thumb/Music126/v4/18/fb/26/18fb26b4-0e8a-2fbb-4169-639ebc038f8b/21UM1IM28412.rgb.jpg/100x100bb.jpg', 'collectionPrice': 5.99, 'collectionExplicitness': 'notExplicit', 'trackCount': 8, 'copyright': 'A Verve Label Group Relase; ℗ 1954 UMG Recordings, Inc.', 'country': 'USA', 'currency': 'USD', 'releaseDate': '1954-01-01T08:00:00Z', 'primaryGenreName': 'Jazz'}, {'wrapperType': 'collection', 'collectionType': 'Album', 'artistId': 518462, 'collectionId': 1440749171, 'amgArtistId': 52456, 'artistName': 'Louis Armstrong', 'collectionName': 'Disney Songs the Satchmo Way', 'collectionCensoredName': 'Disney Songs the Satchmo Way', 'artistViewUrl': 'https://music.apple.com/us/artist/louis-armstrong/518462?uo=4', 'collectionViewUrl': 'https://music.apple.com/us/album/disney-songs-the-satchmo-way/1440749171?uo=4', 'artworkUrl60': 'https://is1-ssl.mzstatic.com/image/thumb/Music128/v4/05/5f/61/055f6156-cef6-d68b-b4b7-71cbfda87427/00050086092079.rgb.jpg/60x60bb.jpg', 'artworkUrl100': 'https://is1-ssl.mzstatic.com/image/thumb/Music128/v4/05/5f/61/055f6156-cef6-d68b-b4b7-71cbfda87427/00050086092079.rgb.jpg/100x100bb.jpg', 'collectionPrice': 6.99, 'collectionExplicitness': 'notExplicit', 'trackCount': 10, 'copyright': '℗ 1996 Buena Vista Pictures Distribution, Inc.', 'country': 'USA', 'currency': 'USD', 'releaseDate': '1968-03-01T00:00:00Z', 'primaryGenreName': 'Jazz'}, {'wrapperType': 'collection', 'collectionType': 'Album', 'artistId': 518462, 'collectionId': 1426743749, 'amgArtistId': 52456, 'artistName': 'Louis Armstrong', 'collectionName': 'The Standard Oil Sessions (Live)', 'collectionCensoredName': 'The Standard Oil Sessions (Live)', 'artistViewUrl': 'https://music.apple.com/us/artist/louis-armstrong/518462?uo=4', 'collectionViewUrl': 'https://music.apple.com/us/album/the-standard-oil-sessions-live/1426743749?uo=4', 'artworkUrl60': 'https://is1-ssl.mzstatic.com/image/thumb/Music128/v4/b5/67/ba/b567ba85-209a-011a-ec2d-c78ba6a220cf/604043800520_cover.jpg/60x60bb.jpg', 'artworkUrl100': 'https://is1-ssl.mzstatic.com/image/thumb/Music128/v4/b5/67/ba/b567ba85-209a-011a-ec2d-c78ba6a220cf/604043800520_cover.jpg/100x100bb.jpg', 'collectionPrice': 9.99, 'collectionExplicitness': 'notExplicit', 'trackCount': 11, 'copyright': '℗ 2017 Dot Time Legends', 'country': 'USA', 'currency': 'USD', 'releaseDate': '2017-05-22T07:00:00Z', 'primaryGenreName': 'Jazz'}, {'wrapperType': 'collection', 'collectionType': 'Album', 'artistId': 518462, 'collectionId': 1426601992, 'amgArtistId': 52456, 'artistName': 'Louis Armstrong', 'collectionName': 'The Night Clubs (Live)', 'collectionCensoredName': 'The Night Clubs (Live)', 'artistViewUrl': 'https://music.apple.com/us/artist/louis-armstrong/518462?uo=4', 'collectionViewUrl': 'https://music.apple.com/us/album/the-night-clubs-live/1426601992?uo=4', 'artworkUrl60': 'https://is1-ssl.mzstatic.com/image/thumb/Music128/v4/bf/b9/f5/bfb9f579-ddf3-73b3-b248-8a3813aefcfb/604043800827_cover.jpg/60x60bb.jpg', 'artworkUrl100': 'https://is1-ssl.mzstatic.com/image/thumb/Music128/v4/bf/b9/f5/bfb9f579-ddf3-73b3-b248-8a3813aefcfb/604043800827_cover.jpg/100x100bb.jpg', 'collectionPrice': 9.99, 'collectionExplicitness': 'notExplicit', 'trackCount': 16, 'copyright': '℗ 2017 Dot Time Legends', 'country': 'USA', 'currency': 'USD', 'releaseDate': '2017-11-17T08:00:00Z', 'primaryGenreName': 'Jazz'}, {'wrapperType': 'collection', 'collectionType': 'Album', 'artistId': 518462, 'collectionId': 1675405359, 'amgArtistId': 52456, 'artistName': 'Louis Armstrong', 'collectionName': 'I Will Wait For You', 'collectionCensoredName': 'I Will Wait For You', 'artistViewUrl': 'https://music.apple.com/us/artist/louis-armstrong/518462?uo=4', 'collectionViewUrl': 'https://music.apple.com/us/album/i-will-wait-for-you/1675405359?uo=4', 'artworkUrl60': 'https://is1-ssl.mzstatic.com/image/thumb/Music116/v4/15/bf/0e/15bf0e4c-f2cc-a46a-e14b-72e51539c256/23UMGIM17449.rgb.jpg/60x60bb.jpg', 'artworkUrl100': 'https://is1-ssl.mzstatic.com/image/thumb/Music116/v4/15/bf/0e/15bf0e4c-f2cc-a46a-e14b-72e51539c256/23UMGIM17449.rgb.jpg/100x100bb.jpg', 'collectionPrice': 9.99, 'collectionExplicitness': 'notExplicit', 'trackCount': 10, 'copyright': 'A Verve Label Group Release; ℗ 1968 UMG Recordings, Inc.', 'country': 'USA', 'currency': 'USD', 'releaseDate': '1968-09-01T07:00:00Z', 'primaryGenreName': 'Jazz'}]}\n"
          ]
        }
      ]
    },
    {
      "cell_type": "markdown",
      "metadata": {
        "id": "cylUKYQlQVlW"
      },
      "source": [
        "2. Выведите количество записей в ответе."
      ]
    },
    {
      "cell_type": "code",
      "metadata": {
        "id": "rsTsbuGXQVlW",
        "colab": {
          "base_uri": "https://localhost:8080/"
        },
        "outputId": "b442139f-8b08-4857-c82c-8804dc1eadd3"
      },
      "source": [
        "print(albums.json().get('resultCount'))"
      ],
      "execution_count": 8,
      "outputs": [
        {
          "output_type": "stream",
          "name": "stdout",
          "text": [
            "101\n"
          ]
        }
      ]
    },
    {
      "cell_type": "markdown",
      "metadata": {
        "id": "5wqZG58CQVlX"
      },
      "source": [
        "3. Посмотрите внимательно на список с записями и обратите внимание, что мы запрашивали 100 альбомов, то есть на одну запись меньше, чем нам показал счётчик.\n",
        "**Ответьте, в чём причина: 101 запись так как 1- это строка с инфо об артисте, остальные 100- альбомы"
      ]
    },
    {
      "cell_type": "markdown",
      "metadata": {
        "id": "m95_sBKnQVlX"
      },
      "source": [
        "***Задача 5***\n",
        "\n",
        "1. С учётом ответа на предыдущий вопрос разделите список на два списка:\n",
        "- `data1` — альбомы с 1 по 30,\n",
        "- `data2` — оставшиеся альбомы.\n",
        "\n",
        "    Распечатайте количество элементов в каждом списке."
      ]
    },
    {
      "cell_type": "code",
      "metadata": {
        "id": "HbEGYYySQVlY",
        "colab": {
          "base_uri": "https://localhost:8080/"
        },
        "outputId": "4d653b2f-2b3a-4d99-de86-c651e11ac5ac"
      },
      "source": [
        "data1 = albums.json().get('results')[1:31]\n",
        "data2 = albums.json().get('results')[31:]\n",
        "print(len(data1))\n",
        "print(len(data2))"
      ],
      "execution_count": 9,
      "outputs": [
        {
          "output_type": "stream",
          "name": "stdout",
          "text": [
            "30\n",
            "70\n"
          ]
        }
      ]
    },
    {
      "cell_type": "markdown",
      "metadata": {
        "id": "f6KP2YUgQVlY"
      },
      "source": [
        "2. Создайте датафрейм `df1` на основе списка `data1` и распечатайте его, а затем запишите его на лист `albums` в файл `30_albums.xlsx` в директории проекта `api/practice/data`. Не забудьте перед этим создать нужную директорию.\n"
      ]
    },
    {
      "cell_type": "code",
      "metadata": {
        "id": "U5SYJKUZQVlZ",
        "colab": {
          "base_uri": "https://localhost:8080/"
        },
        "outputId": "e2828089-84ba-42a0-e106-31e74a4211c0"
      },
      "source": [
        "df1 = pd.DataFrame(data1)\n",
        "print(df1)"
      ],
      "execution_count": 10,
      "outputs": [
        {
          "output_type": "stream",
          "name": "stdout",
          "text": [
            "   wrapperType collectionType  artistId  collectionId  amgArtistId  \\\n",
            "0   collection          Album     73568    1445666702         6503   \n",
            "1   collection          Album    518462    1434914801        52456   \n",
            "2   collection          Album    518462     193896088        52456   \n",
            "3   collection          Album    518462     201274363        52456   \n",
            "4   collection          Album    518462    1644157235        52456   \n",
            "5   collection          Album     73568    1431066643         6503   \n",
            "6   collection          Album    518462    1425235202        52456   \n",
            "7   collection          Album     73568    1469584174         6503   \n",
            "8   collection          Album    518462    1440787250        52456   \n",
            "9   collection          Album    518462     158691605        52456   \n",
            "10  collection          Album     73568    1454734940         6503   \n",
            "11  collection          Album    518462     516685592        52456   \n",
            "12  collection          Album    518462    1425244065        52456   \n",
            "13  collection          Album     73568    1359340014         6503   \n",
            "14  collection          Album    518462     477023849        52456   \n",
            "15  collection          Album    518462    1744612374        52456   \n",
            "16  collection          Album    518462    1425262446        52456   \n",
            "17  collection          Album     73568    1434904687         6503   \n",
            "18  collection          Album     73568    1442955474         6503   \n",
            "19  collection          Album    518462    1434925400        52456   \n",
            "20  collection          Album    518462     194021777        52456   \n",
            "21  collection          Album    518462     200036163        52456   \n",
            "22  collection          Album    518462     171086591        52456   \n",
            "23  collection          Album    518462     293785416        52456   \n",
            "24  collection          Album    518462     157407490        52456   \n",
            "25  collection          Album    518462     157384070        52456   \n",
            "26  collection          Album    518462     158662145        52456   \n",
            "27  collection          Album    518462     293785410        52456   \n",
            "28  collection          Album    518462     270473182        52456   \n",
            "29  collection          Album     73568    1445098984         6503   \n",
            "\n",
            "                                       artistName  \\\n",
            "0               Ella Fitzgerald & Louis Armstrong   \n",
            "1                                 Louis Armstrong   \n",
            "2                                 Louis Armstrong   \n",
            "3                                 Louis Armstrong   \n",
            "4                                 Louis Armstrong   \n",
            "5               Ella Fitzgerald & Louis Armstrong   \n",
            "6                                 Louis Armstrong   \n",
            "7               Ella Fitzgerald & Louis Armstrong   \n",
            "8                                 Louis Armstrong   \n",
            "9               Louis Armstrong and His All-Stars   \n",
            "10              Ella Fitzgerald & Louis Armstrong   \n",
            "11  Louis Armstrong, Tyree Glenn & Tommy Gwaltney   \n",
            "12              Louis Armstrong & Ella Fitzgerald   \n",
            "13              Ella Fitzgerald & Louis Armstrong   \n",
            "14                                Louis Armstrong   \n",
            "15                                Louis Armstrong   \n",
            "16               Louis Armstrong & Oscar Peterson   \n",
            "17              Ella Fitzgerald & Louis Armstrong   \n",
            "18              Ella Fitzgerald & Louis Armstrong   \n",
            "19                                Louis Armstrong   \n",
            "20                   Louis Armstrong & Earl Hines   \n",
            "21                                Louis Armstrong   \n",
            "22                                Louis Armstrong   \n",
            "23                                Louis Armstrong   \n",
            "24              Louis Armstrong and His All-Stars   \n",
            "25                                Louis Armstrong   \n",
            "26                                Louis Armstrong   \n",
            "27                                Louis Armstrong   \n",
            "28                                Louis Armstrong   \n",
            "29              Ella Fitzgerald & Louis Armstrong   \n",
            "\n",
            "                                       collectionName  \\\n",
            "0                              Ella & Louis Christmas   \n",
            "1                              All Time Greatest Hits   \n",
            "2                       The Essential Louis Armstrong   \n",
            "3            The Best of the Hot 5 & Hot 7 Recordings   \n",
            "4                        Louis Wishes You a Cool Yule   \n",
            "5   The Best Of Ella Fitzgerald And Louis Armstron...   \n",
            "6   20th Century Masters: The Best of Louis Armstr...   \n",
            "7                                      Ella and Louis   \n",
            "8                              What a Wonderful World   \n",
            "9                    Louis Armstrong Plays W.C. Handy   \n",
            "10                            Ella & Louis for Lovers   \n",
            "11  Satchmo at the National Press Club - Red Beans...   \n",
            "12                                     Porgy and Bess   \n",
            "13       Cheek To Cheek: The Complete Duet Recordings   \n",
            "14       The Complete Hot Five & Hot Seven Recordings   \n",
            "15                  Louis In London (Live At The BBC)   \n",
            "16  Louis Armstrong Meets Oscar Peterson (Expanded...   \n",
            "17               The Complete Ella and Louis On Verve   \n",
            "18                               Ella and Louis Again   \n",
            "19           The Ultimate Collection: Louis Armstrong   \n",
            "20  Louis Armstrong, Vol. 4 - Louis Armstrong and ...   \n",
            "21                              Satch Blows the Blues   \n",
            "22          The Great Chicago Concert 1956 - Complete   \n",
            "23  The Complete Hot Five and Hot Seven Recordings...   \n",
            "24             Ambassador Satch (Live in Europe 1955)   \n",
            "25                                         Super Hits   \n",
            "26                     The Essence of Louis Armstrong   \n",
            "27  The Complete Hot Five and Hot Seven Recordings...   \n",
            "28  Louis Armstrong: Complete RCA Victor Recording...   \n",
            "29  20th Century Masters / The Millennium Collecti...   \n",
            "\n",
            "                               collectionCensoredName  \\\n",
            "0                              Ella & Louis Christmas   \n",
            "1                              All Time Greatest Hits   \n",
            "2                       The Essential Louis Armstrong   \n",
            "3            The Best of the Hot 5 & Hot 7 Recordings   \n",
            "4                        Louis Wishes You a Cool Yule   \n",
            "5   The Best Of Ella Fitzgerald And Louis Armstron...   \n",
            "6   20th Century Masters: The Best of Louis Armstr...   \n",
            "7                                      Ella and Louis   \n",
            "8                              What a Wonderful World   \n",
            "9                    Louis Armstrong Plays W.C. Handy   \n",
            "10                            Ella & Louis for Lovers   \n",
            "11  Satchmo at the National Press Club - Red Beans...   \n",
            "12                                     Porgy and Bess   \n",
            "13       Cheek To Cheek: The Complete Duet Recordings   \n",
            "14       The Complete Hot Five & Hot Seven Recordings   \n",
            "15                  Louis In London (Live At The BBC)   \n",
            "16  Louis Armstrong Meets Oscar Peterson (Expanded...   \n",
            "17               The Complete Ella and Louis On Verve   \n",
            "18                               Ella and Louis Again   \n",
            "19           The Ultimate Collection: Louis Armstrong   \n",
            "20  Louis Armstrong, Vol. 4 - Louis Armstrong and ...   \n",
            "21                              Satch Blows the Blues   \n",
            "22          The Great Chicago Concert 1956 - Complete   \n",
            "23  The Complete Hot Five and Hot Seven Recordings...   \n",
            "24             Ambassador Satch (Live in Europe 1955)   \n",
            "25                                         Super Hits   \n",
            "26                     The Essence of Louis Armstrong   \n",
            "27  The Complete Hot Five and Hot Seven Recordings...   \n",
            "28  Louis Armstrong: Complete RCA Victor Recording...   \n",
            "29  20th Century Masters / The Millennium Collecti...   \n",
            "\n",
            "                                        artistViewUrl  \\\n",
            "0   https://music.apple.com/us/artist/ella-fitzger...   \n",
            "1   https://music.apple.com/us/artist/louis-armstr...   \n",
            "2   https://music.apple.com/us/artist/louis-armstr...   \n",
            "3   https://music.apple.com/us/artist/louis-armstr...   \n",
            "4   https://music.apple.com/us/artist/louis-armstr...   \n",
            "5   https://music.apple.com/us/artist/ella-fitzger...   \n",
            "6   https://music.apple.com/us/artist/louis-armstr...   \n",
            "7   https://music.apple.com/us/artist/ella-fitzger...   \n",
            "8   https://music.apple.com/us/artist/louis-armstr...   \n",
            "9   https://music.apple.com/us/artist/louis-armstr...   \n",
            "10  https://music.apple.com/us/artist/ella-fitzger...   \n",
            "11  https://music.apple.com/us/artist/louis-armstr...   \n",
            "12  https://music.apple.com/us/artist/louis-armstr...   \n",
            "13  https://music.apple.com/us/artist/ella-fitzger...   \n",
            "14  https://music.apple.com/us/artist/louis-armstr...   \n",
            "15  https://music.apple.com/us/artist/louis-armstr...   \n",
            "16  https://music.apple.com/us/artist/louis-armstr...   \n",
            "17  https://music.apple.com/us/artist/ella-fitzger...   \n",
            "18  https://music.apple.com/us/artist/ella-fitzger...   \n",
            "19  https://music.apple.com/us/artist/louis-armstr...   \n",
            "20  https://music.apple.com/us/artist/louis-armstr...   \n",
            "21  https://music.apple.com/us/artist/louis-armstr...   \n",
            "22  https://music.apple.com/us/artist/louis-armstr...   \n",
            "23  https://music.apple.com/us/artist/louis-armstr...   \n",
            "24  https://music.apple.com/us/artist/louis-armstr...   \n",
            "25  https://music.apple.com/us/artist/louis-armstr...   \n",
            "26  https://music.apple.com/us/artist/louis-armstr...   \n",
            "27  https://music.apple.com/us/artist/louis-armstr...   \n",
            "28  https://music.apple.com/us/artist/louis-armstr...   \n",
            "29  https://music.apple.com/us/artist/ella-fitzger...   \n",
            "\n",
            "                                    collectionViewUrl  \\\n",
            "0   https://music.apple.com/us/album/ella-louis-ch...   \n",
            "1   https://music.apple.com/us/album/all-time-grea...   \n",
            "2   https://music.apple.com/us/album/the-essential...   \n",
            "3   https://music.apple.com/us/album/the-best-of-t...   \n",
            "4   https://music.apple.com/us/album/louis-wishes-...   \n",
            "5   https://music.apple.com/us/album/the-best-of-e...   \n",
            "6   https://music.apple.com/us/album/20th-century-...   \n",
            "7   https://music.apple.com/us/album/ella-and-loui...   \n",
            "8   https://music.apple.com/us/album/what-a-wonder...   \n",
            "9   https://music.apple.com/us/album/louis-armstro...   \n",
            "10  https://music.apple.com/us/album/ella-louis-fo...   \n",
            "11  https://music.apple.com/us/album/satchmo-at-th...   \n",
            "12  https://music.apple.com/us/album/porgy-and-bes...   \n",
            "13  https://music.apple.com/us/album/cheek-to-chee...   \n",
            "14  https://music.apple.com/us/album/the-complete-...   \n",
            "15  https://music.apple.com/us/album/louis-in-lond...   \n",
            "16  https://music.apple.com/us/album/louis-armstro...   \n",
            "17  https://music.apple.com/us/album/the-complete-...   \n",
            "18  https://music.apple.com/us/album/ella-and-loui...   \n",
            "19  https://music.apple.com/us/album/the-ultimate-...   \n",
            "20  https://music.apple.com/us/album/louis-armstro...   \n",
            "21  https://music.apple.com/us/album/satch-blows-t...   \n",
            "22  https://music.apple.com/us/album/the-great-chi...   \n",
            "23  https://music.apple.com/us/album/the-complete-...   \n",
            "24  https://music.apple.com/us/album/ambassador-sa...   \n",
            "25  https://music.apple.com/us/album/super-hits/15...   \n",
            "26  https://music.apple.com/us/album/the-essence-o...   \n",
            "27  https://music.apple.com/us/album/the-complete-...   \n",
            "28  https://music.apple.com/us/album/louis-armstro...   \n",
            "29  https://music.apple.com/us/album/20th-century-...   \n",
            "\n",
            "                                         artworkUrl60  \\\n",
            "0   https://is1-ssl.mzstatic.com/image/thumb/Music...   \n",
            "1   https://is1-ssl.mzstatic.com/image/thumb/Music...   \n",
            "2   https://is1-ssl.mzstatic.com/image/thumb/Music...   \n",
            "3   https://is1-ssl.mzstatic.com/image/thumb/Music...   \n",
            "4   https://is1-ssl.mzstatic.com/image/thumb/Music...   \n",
            "5   https://is1-ssl.mzstatic.com/image/thumb/Music...   \n",
            "6   https://is1-ssl.mzstatic.com/image/thumb/Music...   \n",
            "7   https://is1-ssl.mzstatic.com/image/thumb/Music...   \n",
            "8   https://is1-ssl.mzstatic.com/image/thumb/Music...   \n",
            "9   https://is1-ssl.mzstatic.com/image/thumb/Music...   \n",
            "10  https://is1-ssl.mzstatic.com/image/thumb/Music...   \n",
            "11  https://is1-ssl.mzstatic.com/image/thumb/Featu...   \n",
            "12  https://is1-ssl.mzstatic.com/image/thumb/Music...   \n",
            "13  https://is1-ssl.mzstatic.com/image/thumb/Music...   \n",
            "14  https://is1-ssl.mzstatic.com/image/thumb/Featu...   \n",
            "15  https://is1-ssl.mzstatic.com/image/thumb/Music...   \n",
            "16  https://is1-ssl.mzstatic.com/image/thumb/Music...   \n",
            "17  https://is1-ssl.mzstatic.com/image/thumb/Music...   \n",
            "18  https://is1-ssl.mzstatic.com/image/thumb/Music...   \n",
            "19  https://is1-ssl.mzstatic.com/image/thumb/Music...   \n",
            "20  https://is1-ssl.mzstatic.com/image/thumb/Music...   \n",
            "21  https://is1-ssl.mzstatic.com/image/thumb/Music...   \n",
            "22  https://is1-ssl.mzstatic.com/image/thumb/Music...   \n",
            "23  https://is1-ssl.mzstatic.com/image/thumb/Music...   \n",
            "24  https://is1-ssl.mzstatic.com/image/thumb/Music...   \n",
            "25  https://is1-ssl.mzstatic.com/image/thumb/Music...   \n",
            "26  https://is1-ssl.mzstatic.com/image/thumb/Music...   \n",
            "27  https://is1-ssl.mzstatic.com/image/thumb/Music...   \n",
            "28  https://is1-ssl.mzstatic.com/image/thumb/Music...   \n",
            "29  https://is1-ssl.mzstatic.com/image/thumb/Music...   \n",
            "\n",
            "                                        artworkUrl100  collectionPrice  \\\n",
            "0   https://is1-ssl.mzstatic.com/image/thumb/Music...             6.99   \n",
            "1   https://is1-ssl.mzstatic.com/image/thumb/Music...            10.99   \n",
            "2   https://is1-ssl.mzstatic.com/image/thumb/Music...            14.99   \n",
            "3   https://is1-ssl.mzstatic.com/image/thumb/Music...             9.99   \n",
            "4   https://is1-ssl.mzstatic.com/image/thumb/Music...             6.99   \n",
            "5   https://is1-ssl.mzstatic.com/image/thumb/Music...             9.99   \n",
            "6   https://is1-ssl.mzstatic.com/image/thumb/Music...             8.99   \n",
            "7   https://is1-ssl.mzstatic.com/image/thumb/Music...             9.99   \n",
            "8   https://is1-ssl.mzstatic.com/image/thumb/Music...             9.99   \n",
            "9   https://is1-ssl.mzstatic.com/image/thumb/Music...             9.99   \n",
            "10  https://is1-ssl.mzstatic.com/image/thumb/Music...             9.99   \n",
            "11  https://is1-ssl.mzstatic.com/image/thumb/Featu...             9.99   \n",
            "12  https://is1-ssl.mzstatic.com/image/thumb/Music...             9.99   \n",
            "13  https://is1-ssl.mzstatic.com/image/thumb/Music...            39.99   \n",
            "14  https://is1-ssl.mzstatic.com/image/thumb/Featu...            29.99   \n",
            "15  https://is1-ssl.mzstatic.com/image/thumb/Music...            11.99   \n",
            "16  https://is1-ssl.mzstatic.com/image/thumb/Music...             9.99   \n",
            "17  https://is1-ssl.mzstatic.com/image/thumb/Music...            27.99   \n",
            "18  https://is1-ssl.mzstatic.com/image/thumb/Music...            11.99   \n",
            "19  https://is1-ssl.mzstatic.com/image/thumb/Music...            27.99   \n",
            "20  https://is1-ssl.mzstatic.com/image/thumb/Music...             9.99   \n",
            "21  https://is1-ssl.mzstatic.com/image/thumb/Music...             9.99   \n",
            "22  https://is1-ssl.mzstatic.com/image/thumb/Music...            16.99   \n",
            "23  https://is1-ssl.mzstatic.com/image/thumb/Music...             9.99   \n",
            "24  https://is1-ssl.mzstatic.com/image/thumb/Music...             9.99   \n",
            "25  https://is1-ssl.mzstatic.com/image/thumb/Music...             5.99   \n",
            "26  https://is1-ssl.mzstatic.com/image/thumb/Music...             9.99   \n",
            "27  https://is1-ssl.mzstatic.com/image/thumb/Music...             9.99   \n",
            "28  https://is1-ssl.mzstatic.com/image/thumb/Music...            -1.00   \n",
            "29  https://is1-ssl.mzstatic.com/image/thumb/Music...             7.99   \n",
            "\n",
            "   collectionExplicitness  trackCount  \\\n",
            "0             notExplicit          20   \n",
            "1             notExplicit          18   \n",
            "2             notExplicit          37   \n",
            "3             notExplicit          18   \n",
            "4             notExplicit          11   \n",
            "5             notExplicit          15   \n",
            "6             notExplicit          10   \n",
            "7             notExplicit          11   \n",
            "8             notExplicit          11   \n",
            "9             notExplicit          16   \n",
            "10            notExplicit          11   \n",
            "11            notExplicit          11   \n",
            "12            notExplicit          15   \n",
            "13            notExplicit          75   \n",
            "14            notExplicit          93   \n",
            "15            notExplicit          13   \n",
            "16            notExplicit          16   \n",
            "17            notExplicit          47   \n",
            "18            notExplicit          19   \n",
            "19            notExplicit          59   \n",
            "20            notExplicit          18   \n",
            "21            notExplicit          16   \n",
            "22            notExplicit          26   \n",
            "23            notExplicit          22   \n",
            "24            notExplicit          13   \n",
            "25            notExplicit          10   \n",
            "26            notExplicit          12   \n",
            "27            notExplicit          22   \n",
            "28            notExplicit          75   \n",
            "29            notExplicit          10   \n",
            "\n",
            "                                            copyright country currency  \\\n",
            "0   This Compilation ℗ 2016 The Verve Music Group,...     USA      USD   \n",
            "1   A Geffen Records Release; This Compilation ℗ 1...     USA      USD   \n",
            "2   ℗ Recorded Prior To 1972. All Rights Reserved ...     USA      USD   \n",
            "3   ℗ Originally Released 1926, 1927, 1928, 1929, ...     USA      USD   \n",
            "4   A Verve Records release; This Compilation ℗ 20...     USA      USD   \n",
            "5   A Verve Label Group release; This Compilation ...     USA      USD   \n",
            "6   A Geffen Records Release; This Compilation ℗ 1...     USA      USD   \n",
            "7                         ℗ 2011 UMG Recordings, Inc.     USA      USD   \n",
            "8   This Compilation ℗ 1968 The Verve Music Group,...     USA      USD   \n",
            "9   ℗ Originally Released 1954 Sony Music Entertai...     USA      USD   \n",
            "10  A Verve Label Group Release; This Compilation ...     USA      USD   \n",
            "11                                                NaN     USA      USD   \n",
            "12  A Verve Label Group release; ℗ 1958 UMG Record...     USA      USD   \n",
            "13  A Verve Records release; ℗ 2018 UMG Recordings...     USA      USD   \n",
            "14  ℗ Originally Released 1926, 1927 Courtesy of M...     USA      USD   \n",
            "15  A Verve Records release; ℗ 2024 BBC, under lic...     USA      USD   \n",
            "16  ℗ 1985 The Verve Music Group, a Division of UM...     USA      USD   \n",
            "17  A Verve Records Release; This Compilation ℗ 19...     USA      USD   \n",
            "18  A Verve Label Group Release; ℗ 1957 UMG Record...     USA      USD   \n",
            "19  A Verve Records release; This Compilation ℗ 20...     USA      USD   \n",
            "20  ℗ Originally Released 1928, 1929, 1941 SONY BM...     USA      USD   \n",
            "21  ℗ Originally Released 1928, 1929, 1930, 1931, ...     USA      USD   \n",
            "22  ℗ Originally Recorded 1956, Originally Release...     USA      USD   \n",
            "23  ℗ Originally Released 1926, 1927, 1928, 1940, ...     USA      USD   \n",
            "24  ℗ Originally Recorded 1955, Originally Release...     USA      USD   \n",
            "25  ℗ Originally Released 1954,1957,1959,1967,1982...     USA      USD   \n",
            "26               ℗ 1991 Sony Music Entertainment Inc.     USA      USD   \n",
            "27  ℗ Originally Released 1928, 1929, 1940, (P) 20...     USA      USD   \n",
            "28                           ℗ 1997 BMG Entertainment     USA      USD   \n",
            "29  A Verve Label Group Release; This Compilation ...     USA      USD   \n",
            "\n",
            "             releaseDate primaryGenreName  \n",
            "0   2016-11-25T08:00:00Z          Holiday  \n",
            "1   1994-01-01T08:00:00Z              Pop  \n",
            "2   1979-12-28T08:00:00Z             Jazz  \n",
            "3   2002-07-30T07:00:00Z             Jazz  \n",
            "4   2022-10-28T07:00:00Z          Holiday  \n",
            "5   1997-08-20T07:00:00Z             Jazz  \n",
            "6   1999-03-16T08:00:00Z             Jazz  \n",
            "7   1956-01-01T08:00:00Z             Jazz  \n",
            "8   1968-01-01T08:00:00Z             Jazz  \n",
            "9   1954-06-01T07:00:00Z             Jazz  \n",
            "10  2005-06-14T07:00:00Z             Jazz  \n",
            "11  1971-01-29T08:00:00Z             Jazz  \n",
            "12  1958-04-01T08:00:00Z             Jazz  \n",
            "13  2018-04-06T07:00:00Z             Jazz  \n",
            "14  2000-08-22T00:00:00Z             Jazz  \n",
            "15  2024-07-12T07:00:00Z             Jazz  \n",
            "16  1957-10-14T08:00:00Z             Jazz  \n",
            "17  1997-05-20T07:00:00Z             Jazz  \n",
            "18  1957-02-25T08:00:00Z             Jazz  \n",
            "19  2000-07-25T07:00:00Z             Jazz  \n",
            "20  1989-08-18T07:00:00Z             Jazz  \n",
            "21  2002-07-26T07:00:00Z             Jazz  \n",
            "22  1957-01-01T08:00:00Z             Jazz  \n",
            "23  2003-04-11T07:00:00Z             Jazz  \n",
            "24  1956-01-01T08:00:00Z             Jazz  \n",
            "25  2000-01-07T08:00:00Z             Jazz  \n",
            "26  1991-10-11T07:00:00Z             Jazz  \n",
            "27  2003-04-11T07:00:00Z             Jazz  \n",
            "28  1990-01-01T08:00:00Z             Jazz  \n",
            "29  2007-06-12T07:00:00Z             Jazz  \n"
          ]
        }
      ]
    },
    {
      "cell_type": "markdown",
      "metadata": {
        "id": "OQQmF0xoiljN"
      },
      "source": [
        "Для удобства переиспользования путь к папке с данными удобно вынести в отдельную переменную. Оставьте текущий путь в `path` или пропишите полный путь от директории, в которой запущен Jupyter Notebook."
      ]
    },
    {
      "cell_type": "code",
      "metadata": {
        "id": "5B1BAWrSiIfi"
      },
      "source": [
        "path = 'C:\\\\Users\\\\makar\\\\OneDrive\\\\Рабочий стол\\\\ДЗ_Продуктовый аналитик\\\\'\n",
        "\n",
        "df1.to_excel(path + 'dz_makarova.xlsx', sheet_name='albums', index=False)"
      ],
      "execution_count": 13,
      "outputs": []
    },
    {
      "cell_type": "markdown",
      "metadata": {
        "id": "OSFeJcPbQVla"
      },
      "source": [
        "3. Создайте датафрейм `df2` на основе списка `data2` и распечатайте его, а затем запишите его в файл `70_albums.csv` в директории проекта `api/practice/data`, указав в качестве разделителя знак табуляции."
      ]
    },
    {
      "cell_type": "code",
      "metadata": {
        "id": "zOiTPTSBQVla",
        "colab": {
          "base_uri": "https://localhost:8080/"
        },
        "outputId": "759ecf5f-e6cc-4bb0-8f48-549a296cef11"
      },
      "source": [
        "df2 = pd.DataFrame(data2)\n",
        "print(df2)\n",
        "\n",
        "df2.to_csv(path + '70_albums.csv', sep ='\\t')"
      ],
      "execution_count": 17,
      "outputs": [
        {
          "output_type": "stream",
          "name": "stdout",
          "text": [
            "   wrapperType collectionType  artistId  collectionId  amgArtistId  \\\n",
            "0   collection          Album    518462     158673207      52456.0   \n",
            "1   collection          Album    518462     193043791      52456.0   \n",
            "2   collection          Album     73568    1425173241       6503.0   \n",
            "3   collection          Album    518462     198154274      52456.0   \n",
            "4   collection          Album    518462    1422000964      52456.0   \n",
            "..         ...            ...       ...           ...          ...   \n",
            "65  collection          Album    518462    1607165210      52456.0   \n",
            "66  collection          Album    518462    1440749171      52456.0   \n",
            "67  collection          Album    518462    1426743749      52456.0   \n",
            "68  collection          Album    518462    1426601992      52456.0   \n",
            "69  collection          Album    518462    1675405359      52456.0   \n",
            "\n",
            "                              artistName  \\\n",
            "0                        Louis Armstrong   \n",
            "1                        Louis Armstrong   \n",
            "2      Ella Fitzgerald & Louis Armstrong   \n",
            "3                        Louis Armstrong   \n",
            "4                        Louis Armstrong   \n",
            "..                                   ...   \n",
            "65  Louis Armstrong & The Mills Brothers   \n",
            "66                       Louis Armstrong   \n",
            "67                       Louis Armstrong   \n",
            "68                       Louis Armstrong   \n",
            "69                       Louis Armstrong   \n",
            "\n",
            "                                       collectionName  \\\n",
            "0            Louis Armstrong: 16 Most Requested Songs   \n",
            "1            The Hot Fives and Hot Sevens, Volume III   \n",
            "2   Our Love Is Here To Stay: Ella & Louis Sing Ge...   \n",
            "3            The Hot Fives and Hot Sevens - Volume II   \n",
            "4                          Hello, Dolly! (Remastered)   \n",
            "..                                                ...   \n",
            "65             Louis Armstrong And The Mills Brothers   \n",
            "66                       Disney Songs the Satchmo Way   \n",
            "67                   The Standard Oil Sessions (Live)   \n",
            "68                             The Night Clubs (Live)   \n",
            "69                                I Will Wait For You   \n",
            "\n",
            "                               collectionCensoredName  \\\n",
            "0            Louis Armstrong: 16 Most Requested Songs   \n",
            "1            The Hot Fives and Hot Sevens, Volume III   \n",
            "2   Our Love Is Here To Stay: Ella & Louis Sing Ge...   \n",
            "3            The Hot Fives and Hot Sevens - Volume II   \n",
            "4                          Hello, Dolly! (Remastered)   \n",
            "..                                                ...   \n",
            "65             Louis Armstrong And The Mills Brothers   \n",
            "66                       Disney Songs the Satchmo Way   \n",
            "67                   The Standard Oil Sessions (Live)   \n",
            "68                             The Night Clubs (Live)   \n",
            "69                                I Will Wait For You   \n",
            "\n",
            "                                        artistViewUrl  \\\n",
            "0   https://music.apple.com/us/artist/louis-armstr...   \n",
            "1   https://music.apple.com/us/artist/louis-armstr...   \n",
            "2   https://music.apple.com/us/artist/ella-fitzger...   \n",
            "3   https://music.apple.com/us/artist/louis-armstr...   \n",
            "4   https://music.apple.com/us/artist/louis-armstr...   \n",
            "..                                                ...   \n",
            "65  https://music.apple.com/us/artist/louis-armstr...   \n",
            "66  https://music.apple.com/us/artist/louis-armstr...   \n",
            "67  https://music.apple.com/us/artist/louis-armstr...   \n",
            "68  https://music.apple.com/us/artist/louis-armstr...   \n",
            "69  https://music.apple.com/us/artist/louis-armstr...   \n",
            "\n",
            "                                    collectionViewUrl  \\\n",
            "0   https://music.apple.com/us/album/louis-armstro...   \n",
            "1   https://music.apple.com/us/album/the-hot-fives...   \n",
            "2   https://music.apple.com/us/album/our-love-is-h...   \n",
            "3   https://music.apple.com/us/album/the-hot-fives...   \n",
            "4   https://music.apple.com/us/album/hello-dolly-r...   \n",
            "..                                                ...   \n",
            "65  https://music.apple.com/us/album/louis-armstro...   \n",
            "66  https://music.apple.com/us/album/disney-songs-...   \n",
            "67  https://music.apple.com/us/album/the-standard-...   \n",
            "68  https://music.apple.com/us/album/the-night-clu...   \n",
            "69  https://music.apple.com/us/album/i-will-wait-f...   \n",
            "\n",
            "                                         artworkUrl60  \\\n",
            "0   https://is1-ssl.mzstatic.com/image/thumb/Music...   \n",
            "1   https://is1-ssl.mzstatic.com/image/thumb/Music...   \n",
            "2   https://is1-ssl.mzstatic.com/image/thumb/Music...   \n",
            "3   https://is1-ssl.mzstatic.com/image/thumb/Featu...   \n",
            "4   https://is1-ssl.mzstatic.com/image/thumb/Music...   \n",
            "..                                                ...   \n",
            "65  https://is1-ssl.mzstatic.com/image/thumb/Music...   \n",
            "66  https://is1-ssl.mzstatic.com/image/thumb/Music...   \n",
            "67  https://is1-ssl.mzstatic.com/image/thumb/Music...   \n",
            "68  https://is1-ssl.mzstatic.com/image/thumb/Music...   \n",
            "69  https://is1-ssl.mzstatic.com/image/thumb/Music...   \n",
            "\n",
            "                                        artworkUrl100  collectionPrice  \\\n",
            "0   https://is1-ssl.mzstatic.com/image/thumb/Music...             9.99   \n",
            "1   https://is1-ssl.mzstatic.com/image/thumb/Music...             9.99   \n",
            "2   https://is1-ssl.mzstatic.com/image/thumb/Music...             9.99   \n",
            "3   https://is1-ssl.mzstatic.com/image/thumb/Featu...             9.99   \n",
            "4   https://is1-ssl.mzstatic.com/image/thumb/Music...             9.99   \n",
            "..                                                ...              ...   \n",
            "65  https://is1-ssl.mzstatic.com/image/thumb/Music...             5.99   \n",
            "66  https://is1-ssl.mzstatic.com/image/thumb/Music...             6.99   \n",
            "67  https://is1-ssl.mzstatic.com/image/thumb/Music...             9.99   \n",
            "68  https://is1-ssl.mzstatic.com/image/thumb/Music...             9.99   \n",
            "69  https://is1-ssl.mzstatic.com/image/thumb/Music...             9.99   \n",
            "\n",
            "   collectionExplicitness  trackCount  \\\n",
            "0             notExplicit          16   \n",
            "1             notExplicit          16   \n",
            "2             notExplicit          16   \n",
            "3             notExplicit          16   \n",
            "4             notExplicit          12   \n",
            "..                    ...         ...   \n",
            "65            notExplicit           8   \n",
            "66            notExplicit          10   \n",
            "67            notExplicit          11   \n",
            "68            notExplicit          16   \n",
            "69            notExplicit          10   \n",
            "\n",
            "                                            copyright country currency  \\\n",
            "0                ℗ 1994 Sony Music Entertainment Inc.     USA      USD   \n",
            "1                             ℗ 1989 CBS RECORDS INC.     USA      USD   \n",
            "2   A Verve Label Group release; This Compilation ...     USA      USD   \n",
            "3   ℗ Originally Released 1926, 1927 SONY BMG MUSI...     USA      USD   \n",
            "4   A Verve Label Group release; ℗ 1964 UMG Record...     USA      USD   \n",
            "..                                                ...     ...      ...   \n",
            "65  A Verve Label Group Relase; ℗ 1954 UMG Recordi...     USA      USD   \n",
            "66     ℗ 1996 Buena Vista Pictures Distribution, Inc.     USA      USD   \n",
            "67                            ℗ 2017 Dot Time Legends     USA      USD   \n",
            "68                            ℗ 2017 Dot Time Legends     USA      USD   \n",
            "69  A Verve Label Group Release; ℗ 1968 UMG Record...     USA      USD   \n",
            "\n",
            "             releaseDate primaryGenreName  \n",
            "0   1994-05-27T07:00:00Z             Jazz  \n",
            "1   1989-03-24T08:00:00Z             Jazz  \n",
            "2   1998-01-23T08:00:00Z             Jazz  \n",
            "3   1988-08-30T07:00:00Z             Jazz  \n",
            "4   1964-10-25T07:00:00Z             Jazz  \n",
            "..                   ...              ...  \n",
            "65  1954-01-01T08:00:00Z             Jazz  \n",
            "66  1968-03-01T00:00:00Z             Jazz  \n",
            "67  2017-05-22T07:00:00Z             Jazz  \n",
            "68  2017-11-17T08:00:00Z             Jazz  \n",
            "69  1968-09-01T07:00:00Z             Jazz  \n",
            "\n",
            "[70 rows x 20 columns]\n"
          ]
        }
      ]
    },
    {
      "cell_type": "markdown",
      "metadata": {
        "id": "7kLcc_RZbKbh"
      },
      "source": [
        "**Задача 6**\n",
        "\n",
        "Попробуйте сформировать запросы к [iTunes Search API](https://affiliate.itunes.apple.com/resources/documentation/itunes-store-web-service-search-api/) таким образом, чтобы получить статусы ответов, отличные от 200. Например, 400 и 404. Распечатайте коды статусов для каждого запроса.\n",
        "\n",
        "_Подсказка:_ воспользуйтесь [шпаргалкой по кодам ответа HTTP](https://developer.mozilla.org/ru/docs/Web/HTTP/Status), чтобы понять, как следует изменить запрос, чтобы сервер вернул определённую ошибку в ответе.\n"
      ]
    },
    {
      "cell_type": "code",
      "metadata": {
        "id": "aZgIKhLObI-k",
        "colab": {
          "base_uri": "https://localhost:8080/"
        },
        "outputId": "4cfc3dba-aae1-489e-f1cf-c2ffb34acb13"
      },
      "source": [
        "import requests\n",
        "\n",
        "\n",
        "base_url = \"https://itunes.apple.com/search\"\n",
        "params_bad_request = {\n",
        "    \"term\": \"\",\n",
        "    \"country\": \"US\"\n",
        "}\n",
        "response_400 = requests.get(base_url, params=params_bad_request)\n",
        "print(f\"Status code for 400 error: {response_400.status_code}\")\n",
        "\n",
        "invalid_url = \"https://itunes.apple.com/invalid_endpoint\"\n",
        "response_404 = requests.get(invalid_url)\n",
        "print(f\"Status code for 404 error: {response_404.status_code}\")"
      ],
      "execution_count": 21,
      "outputs": [
        {
          "output_type": "stream",
          "name": "stdout",
          "text": [
            "Status code for 400 error: 200\n",
            "Status code for 404 error: 404\n"
          ]
        }
      ]
    }
  ]
}